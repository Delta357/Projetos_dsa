{
 "cells": [
  {
   "cell_type": "markdown",
   "id": "e7c977a1-1d01-4c77-a66d-8938b716a1ca",
   "metadata": {},
   "source": [
    "# Projeto 2 - Machine Learning na Segurança do Trabalho Prevendo a Eficiência de Extintores de Incêndio\n",
    "\n",
    "O teste hidrostático extintor é um procedimento estabelecido pelas normas da ABNT NBR 12962/2016, que determinam que todos os extintores devem ser testados a cada cinco anos, com a finalidade de identificar eventuais vazamentos, além de também verificar a\n",
    "resistência do material do extintor. Com isso, o teste hidrostático extintor pode ser realizado em baixa e alta pressão, de acordo com estas normas em questão. O procedimento é realizado por profissionais técnicos da área e com a utilização de aparelhos específicos e apropriados para o teste, visto que eles devem fornecer resultados com exatidão.\n",
    "\n",
    "Seria possível usar Machine Learning para prever o funcionamento de um extintor de incêndio com base em simulações feitas em computador e assim incluir uma camada adicional de segurança nas operações de uma empresa? Esse é o objetivo do Projeto com Feedback 2.\n",
    "Usando dados reais disponíveis publicamente, seu trabalho é desenvolver um modelo de Machine Learning capaz de prever a eficiência de extintores de incêndio. \n",
    "\n",
    "# Base dados\n",
    "No link abaixo você encontra os dados necessários para o seu trabalho:\n",
    "\n",
    "**Base dados** :https://www.muratkoklu.com/datasets/vtdhnd07.php\n",
    "\n",
    "\n",
    "# Descrição do projeto\n",
    "O conjunto de dados foi obtido como resultado dos testes de extinção de quatro chamas de combustíveis diferentes com um sistema de extinção de ondas sonoras. O sistema de extinção de incêndio por ondas sonoras consiste em 4 subwoofers com uma potência total de 4.000 Watts.\n",
    "Existem dois amplificadores que permitem que o som chegue a esses subwoofers como  amplificado. A fonte de alimentação que alimenta o sistema e o circuito do filtro garantindo que as frequências de som sejam transmitidas adequadamente para o sistema está localizada dentro da unidade de controle. Enquanto o computador é usado como fonte de frequência, o anemômetro foi usado para medir o fluxo de ar resultante das ondas sonoras durante a fase de extinção da chama e um decibelímetro para medir a intensidade do som. Um termômetro infravermelho foi utilizado para medir a temperatura da chama e da lata de combustível, e uma câmera é instalada para detectar o tempo de extinção da chama. Um total de 17.442 testes foram realizados com esta configuração experimental. \n",
    "\n",
    "# Problema négocio\n",
    "Os experimentos foram planejados da seguinte forma:\n",
    "\n",
    "- Três diferentes combustíveis líquidos e combustível GLP foram usados para criar a chama.\n",
    "\n",
    "- 5 tamanhos diferentes de latas de combustível líquido foram usados para atingir diferentes tamanhos de chamas.\n",
    "\n",
    "- O ajuste de meio e cheio de gás foi usado para combustível GLP.\n",
    "\n",
    "Durante a realização de cada experimento, o recipiente de combustível, a 10 cm de distância, foi movido para frente até 190 cm, aumentando a distância em 10 cm a cada vez. Junto com o recipiente de combustível, o anemômetro e o decibelímetro foram movidos para frente\n",
    "nas mesmas dimensões. Experimentos de extinção de incêndio foram conduzidos com 54 ondas sonoras de frequências diferentes em cada distância e tamanho de chama. Ao longo dos experimentos de extinção de chama, os dados obtidos de cada dispositivo\n",
    "de medição foram registrados e um conjunto de dados foi criado. O conjunto de dados inclui as características do tamanho do recipiente de combustível representando o tamanho da chama, tipo de combustível, frequência, decibéis, distância, fluxo de ar e extinção da chama. Assim, 6 recursos de entrada e 1 recurso de saída serão usados no modelo que você vai construir. \n",
    "\n",
    "# Objetivo \n",
    "\n",
    "**A coluna de status (extinção de chama ou não extinção da chama) pode ser prevista usando os seis recursos de entrada no conjunto de dados.**\n",
    "Os recursos de status e combustível são categóricos, enquanto outros recursos são numéricos. Seu trabalho é construir um modelo de Machine Learning capaz de prever, com base em novos dados, se a chama será extinta ou não ao usar um extintor de incêndio.\n",
    "\n",
    "# Objetivo modelo machine learning\n",
    "\n",
    "**Definição**:"
   ]
  },
  {
   "cell_type": "code",
   "execution_count": 1,
   "id": "1b56717f-fe5e-450c-aab8-716cb6879be3",
   "metadata": {},
   "outputs": [
    {
     "name": "stdout",
     "output_type": "stream",
     "text": [
      "Author: Versões das bibliotecas\n",
      "\n",
      "seaborn   : 0.12.2\n",
      "sklearn   : 0.0.post5\n",
      "plotly    : 5.9.0\n",
      "re        : 2.2.1\n",
      "numpy     : 1.24.3\n",
      "pandas    : 2.0.3\n",
      "matplotlib: 3.7.1\n",
      "watermark : 2.4.2\n",
      "\n",
      "Versão python neste Jupyter Notebook: 3.9.13\n"
     ]
    }
   ],
   "source": [
    "# Importação das bibliotecas \n",
    "\n",
    "# Bibliotecas sistema\n",
    "import re\n",
    "import unicodedata\n",
    "import itertools\n",
    "\n",
    "# Biblioteca para manipulação de arquivos\n",
    "import pandas as pd\n",
    "import numpy as np \n",
    "from numpy.linalg import lstsq\n",
    "from numpy.random import randn, seed\n",
    "\n",
    "# Bibliotecas machine learning\n",
    "import sklearn\n",
    "from matplotlib import pyplot as plt\n",
    "\n",
    "# Visualização de dados\n",
    "import seaborn as sns\n",
    "import matplotlib as m\n",
    "import matplotlib as mpl\n",
    "import matplotlib.pyplot as plt\n",
    "import plotly\n",
    "import plotly.express as px\n",
    "\n",
    "# Carregar as versões das bibliotecas\n",
    "import watermark\n",
    "\n",
    "# Versões das bibliotecas\n",
    "%reload_ext watermark\n",
    "%watermark -a \"Versões das bibliotecas\" --iversions\n",
    "\n",
    "# Configuração para os gráficos largura e layout dos graficos\n",
    "plt.style.use('fivethirtyeight')\n",
    "\n",
    "# Warnings retirar alertas \n",
    "import warnings\n",
    "warnings.filterwarnings(\"ignore\")\n",
    "\n",
    "# Versão do python\n",
    "from platform import python_version\n",
    "print('Versão python neste Jupyter Notebook:', python_version())"
   ]
  },
  {
   "cell_type": "code",
   "execution_count": 2,
   "id": "b3b8fffc-a1e7-4da3-80cc-94b4e0633fa5",
   "metadata": {},
   "outputs": [
    {
     "data": {
      "text/html": [
       "<div>\n",
       "<style scoped>\n",
       "    .dataframe tbody tr th:only-of-type {\n",
       "        vertical-align: middle;\n",
       "    }\n",
       "\n",
       "    .dataframe tbody tr th {\n",
       "        vertical-align: top;\n",
       "    }\n",
       "\n",
       "    .dataframe thead th {\n",
       "        text-align: right;\n",
       "    }\n",
       "</style>\n",
       "<table border=\"1\" class=\"dataframe\">\n",
       "  <thead>\n",
       "    <tr style=\"text-align: right;\">\n",
       "      <th></th>\n",
       "      <th>SIZE</th>\n",
       "      <th>FUEL</th>\n",
       "      <th>DISTANCE</th>\n",
       "      <th>DESIBEL</th>\n",
       "      <th>AIRFLOW</th>\n",
       "      <th>FREQUENCY</th>\n",
       "      <th>STATUS</th>\n",
       "    </tr>\n",
       "  </thead>\n",
       "  <tbody>\n",
       "    <tr>\n",
       "      <th>0</th>\n",
       "      <td>1</td>\n",
       "      <td>gasoline</td>\n",
       "      <td>10</td>\n",
       "      <td>96</td>\n",
       "      <td>0.0</td>\n",
       "      <td>75</td>\n",
       "      <td>0</td>\n",
       "    </tr>\n",
       "    <tr>\n",
       "      <th>1</th>\n",
       "      <td>1</td>\n",
       "      <td>gasoline</td>\n",
       "      <td>10</td>\n",
       "      <td>96</td>\n",
       "      <td>0.0</td>\n",
       "      <td>72</td>\n",
       "      <td>1</td>\n",
       "    </tr>\n",
       "    <tr>\n",
       "      <th>2</th>\n",
       "      <td>1</td>\n",
       "      <td>gasoline</td>\n",
       "      <td>10</td>\n",
       "      <td>96</td>\n",
       "      <td>2.6</td>\n",
       "      <td>70</td>\n",
       "      <td>1</td>\n",
       "    </tr>\n",
       "    <tr>\n",
       "      <th>3</th>\n",
       "      <td>1</td>\n",
       "      <td>gasoline</td>\n",
       "      <td>10</td>\n",
       "      <td>96</td>\n",
       "      <td>3.2</td>\n",
       "      <td>68</td>\n",
       "      <td>1</td>\n",
       "    </tr>\n",
       "    <tr>\n",
       "      <th>4</th>\n",
       "      <td>1</td>\n",
       "      <td>gasoline</td>\n",
       "      <td>10</td>\n",
       "      <td>109</td>\n",
       "      <td>4.5</td>\n",
       "      <td>67</td>\n",
       "      <td>1</td>\n",
       "    </tr>\n",
       "    <tr>\n",
       "      <th>...</th>\n",
       "      <td>...</td>\n",
       "      <td>...</td>\n",
       "      <td>...</td>\n",
       "      <td>...</td>\n",
       "      <td>...</td>\n",
       "      <td>...</td>\n",
       "      <td>...</td>\n",
       "    </tr>\n",
       "    <tr>\n",
       "      <th>17437</th>\n",
       "      <td>7</td>\n",
       "      <td>lpg</td>\n",
       "      <td>190</td>\n",
       "      <td>86</td>\n",
       "      <td>2.2</td>\n",
       "      <td>5</td>\n",
       "      <td>0</td>\n",
       "    </tr>\n",
       "    <tr>\n",
       "      <th>17438</th>\n",
       "      <td>7</td>\n",
       "      <td>lpg</td>\n",
       "      <td>190</td>\n",
       "      <td>84</td>\n",
       "      <td>2.0</td>\n",
       "      <td>4</td>\n",
       "      <td>0</td>\n",
       "    </tr>\n",
       "    <tr>\n",
       "      <th>17439</th>\n",
       "      <td>7</td>\n",
       "      <td>lpg</td>\n",
       "      <td>190</td>\n",
       "      <td>80</td>\n",
       "      <td>1.5</td>\n",
       "      <td>3</td>\n",
       "      <td>0</td>\n",
       "    </tr>\n",
       "    <tr>\n",
       "      <th>17440</th>\n",
       "      <td>7</td>\n",
       "      <td>lpg</td>\n",
       "      <td>190</td>\n",
       "      <td>76</td>\n",
       "      <td>0.4</td>\n",
       "      <td>2</td>\n",
       "      <td>0</td>\n",
       "    </tr>\n",
       "    <tr>\n",
       "      <th>17441</th>\n",
       "      <td>7</td>\n",
       "      <td>lpg</td>\n",
       "      <td>190</td>\n",
       "      <td>72</td>\n",
       "      <td>0.0</td>\n",
       "      <td>1</td>\n",
       "      <td>0</td>\n",
       "    </tr>\n",
       "  </tbody>\n",
       "</table>\n",
       "<p>17442 rows × 7 columns</p>\n",
       "</div>"
      ],
      "text/plain": [
       "       SIZE      FUEL  DISTANCE  DESIBEL  AIRFLOW  FREQUENCY  STATUS\n",
       "0         1  gasoline        10       96      0.0         75       0\n",
       "1         1  gasoline        10       96      0.0         72       1\n",
       "2         1  gasoline        10       96      2.6         70       1\n",
       "3         1  gasoline        10       96      3.2         68       1\n",
       "4         1  gasoline        10      109      4.5         67       1\n",
       "...     ...       ...       ...      ...      ...        ...     ...\n",
       "17437     7       lpg       190       86      2.2          5       0\n",
       "17438     7       lpg       190       84      2.0          4       0\n",
       "17439     7       lpg       190       80      1.5          3       0\n",
       "17440     7       lpg       190       76      0.4          2       0\n",
       "17441     7       lpg       190       72      0.0          1       0\n",
       "\n",
       "[17442 rows x 7 columns]"
      ]
     },
     "execution_count": 2,
     "metadata": {},
     "output_type": "execute_result"
    }
   ],
   "source": [
    "# Base dados\n",
    "data = pd.read_excel(\"Acoustic_Extinguisher_Fire_Dataset.xlsx\")\n",
    "data"
   ]
  },
  {
   "cell_type": "code",
   "execution_count": 3,
   "id": "354f8464-2b7b-4e19-bb6e-73054bd52838",
   "metadata": {},
   "outputs": [
    {
     "data": {
      "text/html": [
       "<div>\n",
       "<style scoped>\n",
       "    .dataframe tbody tr th:only-of-type {\n",
       "        vertical-align: middle;\n",
       "    }\n",
       "\n",
       "    .dataframe tbody tr th {\n",
       "        vertical-align: top;\n",
       "    }\n",
       "\n",
       "    .dataframe thead th {\n",
       "        text-align: right;\n",
       "    }\n",
       "</style>\n",
       "<table border=\"1\" class=\"dataframe\">\n",
       "  <thead>\n",
       "    <tr style=\"text-align: right;\">\n",
       "      <th></th>\n",
       "      <th>SIZE</th>\n",
       "      <th>FUEL</th>\n",
       "      <th>DISTANCE</th>\n",
       "      <th>DESIBEL</th>\n",
       "      <th>AIRFLOW</th>\n",
       "      <th>FREQUENCY</th>\n",
       "      <th>STATUS</th>\n",
       "    </tr>\n",
       "  </thead>\n",
       "  <tbody>\n",
       "    <tr>\n",
       "      <th>0</th>\n",
       "      <td>1</td>\n",
       "      <td>gasoline</td>\n",
       "      <td>10</td>\n",
       "      <td>96</td>\n",
       "      <td>0.0</td>\n",
       "      <td>75</td>\n",
       "      <td>0</td>\n",
       "    </tr>\n",
       "    <tr>\n",
       "      <th>1</th>\n",
       "      <td>1</td>\n",
       "      <td>gasoline</td>\n",
       "      <td>10</td>\n",
       "      <td>96</td>\n",
       "      <td>0.0</td>\n",
       "      <td>72</td>\n",
       "      <td>1</td>\n",
       "    </tr>\n",
       "    <tr>\n",
       "      <th>2</th>\n",
       "      <td>1</td>\n",
       "      <td>gasoline</td>\n",
       "      <td>10</td>\n",
       "      <td>96</td>\n",
       "      <td>2.6</td>\n",
       "      <td>70</td>\n",
       "      <td>1</td>\n",
       "    </tr>\n",
       "    <tr>\n",
       "      <th>3</th>\n",
       "      <td>1</td>\n",
       "      <td>gasoline</td>\n",
       "      <td>10</td>\n",
       "      <td>96</td>\n",
       "      <td>3.2</td>\n",
       "      <td>68</td>\n",
       "      <td>1</td>\n",
       "    </tr>\n",
       "    <tr>\n",
       "      <th>4</th>\n",
       "      <td>1</td>\n",
       "      <td>gasoline</td>\n",
       "      <td>10</td>\n",
       "      <td>109</td>\n",
       "      <td>4.5</td>\n",
       "      <td>67</td>\n",
       "      <td>1</td>\n",
       "    </tr>\n",
       "  </tbody>\n",
       "</table>\n",
       "</div>"
      ],
      "text/plain": [
       "   SIZE      FUEL  DISTANCE  DESIBEL  AIRFLOW  FREQUENCY  STATUS\n",
       "0     1  gasoline        10       96      0.0         75       0\n",
       "1     1  gasoline        10       96      0.0         72       1\n",
       "2     1  gasoline        10       96      2.6         70       1\n",
       "3     1  gasoline        10       96      3.2         68       1\n",
       "4     1  gasoline        10      109      4.5         67       1"
      ]
     },
     "execution_count": 3,
     "metadata": {},
     "output_type": "execute_result"
    }
   ],
   "source": [
    "# Visualizando os 5 primeiros dados\n",
    "data.head()"
   ]
  },
  {
   "cell_type": "code",
   "execution_count": 4,
   "id": "6eafff4f-3fd6-4c7b-980e-3996f0ef7527",
   "metadata": {},
   "outputs": [
    {
     "data": {
      "text/html": [
       "<div>\n",
       "<style scoped>\n",
       "    .dataframe tbody tr th:only-of-type {\n",
       "        vertical-align: middle;\n",
       "    }\n",
       "\n",
       "    .dataframe tbody tr th {\n",
       "        vertical-align: top;\n",
       "    }\n",
       "\n",
       "    .dataframe thead th {\n",
       "        text-align: right;\n",
       "    }\n",
       "</style>\n",
       "<table border=\"1\" class=\"dataframe\">\n",
       "  <thead>\n",
       "    <tr style=\"text-align: right;\">\n",
       "      <th></th>\n",
       "      <th>SIZE</th>\n",
       "      <th>FUEL</th>\n",
       "      <th>DISTANCE</th>\n",
       "      <th>DESIBEL</th>\n",
       "      <th>AIRFLOW</th>\n",
       "      <th>FREQUENCY</th>\n",
       "      <th>STATUS</th>\n",
       "    </tr>\n",
       "  </thead>\n",
       "  <tbody>\n",
       "    <tr>\n",
       "      <th>17437</th>\n",
       "      <td>7</td>\n",
       "      <td>lpg</td>\n",
       "      <td>190</td>\n",
       "      <td>86</td>\n",
       "      <td>2.2</td>\n",
       "      <td>5</td>\n",
       "      <td>0</td>\n",
       "    </tr>\n",
       "    <tr>\n",
       "      <th>17438</th>\n",
       "      <td>7</td>\n",
       "      <td>lpg</td>\n",
       "      <td>190</td>\n",
       "      <td>84</td>\n",
       "      <td>2.0</td>\n",
       "      <td>4</td>\n",
       "      <td>0</td>\n",
       "    </tr>\n",
       "    <tr>\n",
       "      <th>17439</th>\n",
       "      <td>7</td>\n",
       "      <td>lpg</td>\n",
       "      <td>190</td>\n",
       "      <td>80</td>\n",
       "      <td>1.5</td>\n",
       "      <td>3</td>\n",
       "      <td>0</td>\n",
       "    </tr>\n",
       "    <tr>\n",
       "      <th>17440</th>\n",
       "      <td>7</td>\n",
       "      <td>lpg</td>\n",
       "      <td>190</td>\n",
       "      <td>76</td>\n",
       "      <td>0.4</td>\n",
       "      <td>2</td>\n",
       "      <td>0</td>\n",
       "    </tr>\n",
       "    <tr>\n",
       "      <th>17441</th>\n",
       "      <td>7</td>\n",
       "      <td>lpg</td>\n",
       "      <td>190</td>\n",
       "      <td>72</td>\n",
       "      <td>0.0</td>\n",
       "      <td>1</td>\n",
       "      <td>0</td>\n",
       "    </tr>\n",
       "  </tbody>\n",
       "</table>\n",
       "</div>"
      ],
      "text/plain": [
       "       SIZE FUEL  DISTANCE  DESIBEL  AIRFLOW  FREQUENCY  STATUS\n",
       "17437     7  lpg       190       86      2.2          5       0\n",
       "17438     7  lpg       190       84      2.0          4       0\n",
       "17439     7  lpg       190       80      1.5          3       0\n",
       "17440     7  lpg       190       76      0.4          2       0\n",
       "17441     7  lpg       190       72      0.0          1       0"
      ]
     },
     "execution_count": 4,
     "metadata": {},
     "output_type": "execute_result"
    }
   ],
   "source": [
    "# Visualizando os 5 últimos dados\n",
    "data.tail()"
   ]
  },
  {
   "cell_type": "code",
   "execution_count": 5,
   "id": "1fb2d9de-5d47-4791-9f92-80298e46f3a9",
   "metadata": {},
   "outputs": [
    {
     "data": {
      "text/plain": [
       "(17442, 7)"
      ]
     },
     "execution_count": 5,
     "metadata": {},
     "output_type": "execute_result"
    }
   ],
   "source": [
    "# Linhas e colunas\n",
    "data.shape"
   ]
  },
  {
   "cell_type": "code",
   "execution_count": 6,
   "id": "2c400306-174c-42c0-91e8-cf1f3dff541e",
   "metadata": {},
   "outputs": [
    {
     "name": "stdout",
     "output_type": "stream",
     "text": [
      "<class 'pandas.core.frame.DataFrame'>\n",
      "RangeIndex: 17442 entries, 0 to 17441\n",
      "Data columns (total 7 columns):\n",
      " #   Column     Non-Null Count  Dtype  \n",
      "---  ------     --------------  -----  \n",
      " 0   SIZE       17442 non-null  int64  \n",
      " 1   FUEL       17442 non-null  object \n",
      " 2   DISTANCE   17442 non-null  int64  \n",
      " 3   DESIBEL    17442 non-null  int64  \n",
      " 4   AIRFLOW    17442 non-null  float64\n",
      " 5   FREQUENCY  17442 non-null  int64  \n",
      " 6   STATUS     17442 non-null  int64  \n",
      "dtypes: float64(1), int64(5), object(1)\n",
      "memory usage: 954.0+ KB\n"
     ]
    }
   ],
   "source": [
    "# Info dados\n",
    "data.info()"
   ]
  },
  {
   "cell_type": "code",
   "execution_count": 7,
   "id": "99c2ee5e-a09c-4e87-a517-f609b002fc10",
   "metadata": {},
   "outputs": [
    {
     "data": {
      "text/plain": [
       "SIZE           int64\n",
       "FUEL          object\n",
       "DISTANCE       int64\n",
       "DESIBEL        int64\n",
       "AIRFLOW      float64\n",
       "FREQUENCY      int64\n",
       "STATUS         int64\n",
       "dtype: object"
      ]
     },
     "execution_count": 7,
     "metadata": {},
     "output_type": "execute_result"
    }
   ],
   "source": [
    "# Tipos dados\n",
    "data.dtypes"
   ]
  },
  {
   "cell_type": "code",
   "execution_count": 8,
   "id": "ca2e2dec-f762-4b72-ace8-436ff39de7c0",
   "metadata": {},
   "outputs": [
    {
     "data": {
      "text/html": [
       "<div>\n",
       "<style scoped>\n",
       "    .dataframe tbody tr th:only-of-type {\n",
       "        vertical-align: middle;\n",
       "    }\n",
       "\n",
       "    .dataframe tbody tr th {\n",
       "        vertical-align: top;\n",
       "    }\n",
       "\n",
       "    .dataframe thead th {\n",
       "        text-align: right;\n",
       "    }\n",
       "</style>\n",
       "<table border=\"1\" class=\"dataframe\">\n",
       "  <thead>\n",
       "    <tr style=\"text-align: right;\">\n",
       "      <th></th>\n",
       "      <th>count</th>\n",
       "      <th>mean</th>\n",
       "      <th>std</th>\n",
       "      <th>min</th>\n",
       "      <th>25%</th>\n",
       "      <th>50%</th>\n",
       "      <th>75%</th>\n",
       "      <th>max</th>\n",
       "    </tr>\n",
       "  </thead>\n",
       "  <tbody>\n",
       "    <tr>\n",
       "      <th>SIZE</th>\n",
       "      <td>17442.0</td>\n",
       "      <td>3.411765</td>\n",
       "      <td>1.750977</td>\n",
       "      <td>1.0</td>\n",
       "      <td>2.0</td>\n",
       "      <td>3.0</td>\n",
       "      <td>5.0</td>\n",
       "      <td>7.0</td>\n",
       "    </tr>\n",
       "    <tr>\n",
       "      <th>DISTANCE</th>\n",
       "      <td>17442.0</td>\n",
       "      <td>100.000000</td>\n",
       "      <td>54.773826</td>\n",
       "      <td>10.0</td>\n",
       "      <td>50.0</td>\n",
       "      <td>100.0</td>\n",
       "      <td>150.0</td>\n",
       "      <td>190.0</td>\n",
       "    </tr>\n",
       "    <tr>\n",
       "      <th>DESIBEL</th>\n",
       "      <td>17442.0</td>\n",
       "      <td>96.379142</td>\n",
       "      <td>8.164096</td>\n",
       "      <td>72.0</td>\n",
       "      <td>90.0</td>\n",
       "      <td>95.0</td>\n",
       "      <td>104.0</td>\n",
       "      <td>113.0</td>\n",
       "    </tr>\n",
       "    <tr>\n",
       "      <th>AIRFLOW</th>\n",
       "      <td>17442.0</td>\n",
       "      <td>6.975634</td>\n",
       "      <td>4.736169</td>\n",
       "      <td>0.0</td>\n",
       "      <td>3.2</td>\n",
       "      <td>5.8</td>\n",
       "      <td>11.2</td>\n",
       "      <td>17.0</td>\n",
       "    </tr>\n",
       "    <tr>\n",
       "      <th>FREQUENCY</th>\n",
       "      <td>17442.0</td>\n",
       "      <td>31.611111</td>\n",
       "      <td>20.939149</td>\n",
       "      <td>1.0</td>\n",
       "      <td>14.0</td>\n",
       "      <td>27.5</td>\n",
       "      <td>47.0</td>\n",
       "      <td>75.0</td>\n",
       "    </tr>\n",
       "    <tr>\n",
       "      <th>STATUS</th>\n",
       "      <td>17442.0</td>\n",
       "      <td>0.497821</td>\n",
       "      <td>0.500010</td>\n",
       "      <td>0.0</td>\n",
       "      <td>0.0</td>\n",
       "      <td>0.0</td>\n",
       "      <td>1.0</td>\n",
       "      <td>1.0</td>\n",
       "    </tr>\n",
       "  </tbody>\n",
       "</table>\n",
       "</div>"
      ],
      "text/plain": [
       "             count        mean        std   min   25%    50%    75%    max\n",
       "SIZE       17442.0    3.411765   1.750977   1.0   2.0    3.0    5.0    7.0\n",
       "DISTANCE   17442.0  100.000000  54.773826  10.0  50.0  100.0  150.0  190.0\n",
       "DESIBEL    17442.0   96.379142   8.164096  72.0  90.0   95.0  104.0  113.0\n",
       "AIRFLOW    17442.0    6.975634   4.736169   0.0   3.2    5.8   11.2   17.0\n",
       "FREQUENCY  17442.0   31.611111  20.939149   1.0  14.0   27.5   47.0   75.0\n",
       "STATUS     17442.0    0.497821   0.500010   0.0   0.0    0.0    1.0    1.0"
      ]
     },
     "execution_count": 8,
     "metadata": {},
     "output_type": "execute_result"
    }
   ],
   "source": [
    "# Exibindo estatísticas descritivas visualizar alguns detalhes estatísticos básicos como percentil, média, padrão, etc. \n",
    "# De um quadro de dados ou uma série de valores numéricos.\n",
    "\n",
    "data.describe().T"
   ]
  },
  {
   "cell_type": "markdown",
   "id": "c4b05e48-17c8-49e6-a959-951dc1d56cf3",
   "metadata": {},
   "source": [
    "# Pré-processamento\n",
    "\n",
    "\n",
    "Pré-processamento de dados é uma etapa fundamental em projetos de machine learning e análise de dados. É o processo de limpar, transformar e preparar os dados brutos para que possam ser adequadamente utilizados por algoritmos de machine learning ou para análises estatísticas.\n",
    "\n",
    "O pré-processamento de dados é uma fase crítica, pois dados não tratados ou inadequadamente tratados podem resultar em modelos imprecisos ou inválidos, prejudicando os resultados e as conclusões. As etapas de pré-processamento podem variar dependendo do tipo de dado e do problema a ser resolvido, mas geralmente incluem as seguintes tarefas:\n",
    "\n",
    "Remoção de Dados Ausentes: Identificar e lidar com valores faltantes nos dados. Isso pode envolver a exclusão de instâncias com dados ausentes ou o preenchimento desses valores usando técnicas como imputação.\n",
    "\n",
    "Tratamento de Outliers: Detectar e lidar com valores atípicos (outliers) que podem afetar negativamente a performance do modelo. Outliers podem ser removidos ou transformados para reduzir seu impacto.\n",
    "\n",
    "Codificação de Variáveis Categóricas: Converter atributos categóricos em uma representação numérica para que possam ser usados em algoritmos de machine learning. Isso pode envolver técnicas como o One-Hot Encoding.\n",
    "\n",
    "Normalização ou Padronização: Ajustar os valores das variáveis para uma escala específica ou distribuição para evitar problemas relacionados a diferentes escalas dos atributos.\n",
    "\n",
    "Seleção de Características: Identificar e selecionar as características (atributos) mais relevantes para a tarefa em questão. Isso pode envolver a análise da importância das características ou o uso de técnicas de seleção de características.\n",
    "\n",
    "Redução de Dimensionalidade: Em casos de conjuntos de dados com muitas características, é possível aplicar técnicas de redução de dimensionalidade para diminuir o número de atributos e simplificar o modelo.\n",
    "\n",
    "Divisão do Conjunto de Dados: Separar o conjunto de dados em subconjuntos de treinamento, validação e teste, permitindo avaliar a performance do modelo em dados não vistos previamente.\n",
    "\n",
    "Balanceamento de Classes: Em problemas de classificação com classes desbalanceadas, é possível aplicar técnicas para balancear a distribuição das classes no conjunto de treinamento.\n",
    "\n",
    "Essas são apenas algumas das tarefas comuns realizadas no pré-processamento de dados. A qualidade e a adequação do pré-processamento têm grande influência no desempenho e na eficácia dos modelos de machine learning. Portanto, é importante realizar essa etapa com cuidado e atenção para garantir que os dados estejam devidamente preparados para a análise ou o treinamento do modelo."
   ]
  },
  {
   "cell_type": "code",
   "execution_count": 9,
   "id": "4fc068d2-978a-4f39-bd9d-33411c88a70c",
   "metadata": {},
   "outputs": [],
   "source": [
    "# Separando os atributos (X) e a coluna alvo (y)\n",
    "x = data.drop(\"STATUS\", axis=1)\n",
    "y = data[\"STATUS\"]"
   ]
  },
  {
   "cell_type": "code",
   "execution_count": 10,
   "id": "fe1b72f3-991a-4736-b276-b1c01f2ce479",
   "metadata": {},
   "outputs": [
    {
     "data": {
      "text/plain": [
       "(17442, 6)"
      ]
     },
     "execution_count": 10,
     "metadata": {},
     "output_type": "execute_result"
    }
   ],
   "source": [
    "# Total de linhas e colunas dados variável x\n",
    "x.shape"
   ]
  },
  {
   "cell_type": "code",
   "execution_count": 11,
   "id": "1044615a-02c9-47c0-9354-2c45839c76fb",
   "metadata": {},
   "outputs": [
    {
     "data": {
      "text/plain": [
       "(17442,)"
      ]
     },
     "execution_count": 11,
     "metadata": {},
     "output_type": "execute_result"
    }
   ],
   "source": [
    "# Total de linhas e colunas dados variável y\n",
    "y.shape"
   ]
  },
  {
   "cell_type": "markdown",
   "id": "b464458b-6e9a-41ec-bb70-d62f65ce077d",
   "metadata": {},
   "source": [
    "# One-Hot Encoding \n",
    "\n",
    "One-Hot Encoding (também conhecido como one-of-K encoding) é uma técnica de pré-processamento de dados usada para transformar variáveis categóricas em uma representação numérica adequada para algoritmos de machine learning. Ela é especialmente útil quando se lida com atributos categóricos que não têm uma ordem natural ou que não podem ser diretamente interpretados como números.\n",
    "\n",
    "Em muitos algoritmos de machine learning, os dados devem ser representados numericamente para que o modelo possa aprender a partir deles. No entanto, quando temos atributos categóricos, como \"gênero\" com categorias \"masculino\" e \"feminino\", não faz sentido atribuir números arbitrários como 1 e 2 para essas categorias, pois isso poderia implicar em uma relação de ordem entre elas.\n",
    "\n",
    "O One-Hot Encoding resolve esse problema criando uma nova representação binária para cada categoria presente no atributo categórico. O processo consiste em criar colunas adicionais para cada categoria única, onde o valor 1 é atribuído à categoria presente na instância e 0 é atribuído às demais categorias. Dessa forma, cada categoria se torna uma variável binária distinta.\n",
    "\n",
    "Por exemplo, suponha que temos um atributo categórico chamado \"cor\" com as categorias \"vermelho\", \"azul\" e \"verde\". Após aplicar o One-Hot Encoding, o atributo seria transformado em três novos atributos binários:\n",
    "\n",
    "cor_vermelho\tcor_azul\tcor_verde\n",
    "1\t                0           0\n",
    "\n",
    "0\t                1           0 \n",
    "\n",
    "0                   0           1  \t\n",
    "\n",
    "1\t                0           0 \n",
    "\n",
    "\n",
    "Dessa forma, cada instância é representada por um vetor binário que indica a presença ou ausência de cada categoria categórica. Essa representação numérica permite que os algoritmos de machine learning trabalhem de maneira adequada com atributos categóricos.\n",
    "\n",
    "É importante ressaltar que o One-Hot Encoding pode aumentar a dimensionalidade do conjunto de dados, especialmente quando existem muitas categorias únicas. Em alguns casos, técnicas de redução de dimensionalidade podem ser aplicadas após o One-Hot Encoding para lidar com esse problema."
   ]
  },
  {
   "cell_type": "code",
   "execution_count": 12,
   "id": "0cffea38-170e-49d8-afee-0418e10f7ae1",
   "metadata": {},
   "outputs": [],
   "source": [
    "# Codificando a variável categórica \"FUEL\" usando one-hot\n",
    "x = pd.get_dummies(x, columns=[\"FUEL\"])"
   ]
  },
  {
   "cell_type": "code",
   "execution_count": 132,
   "id": "02e2b3a9-af08-438f-aa7a-fb3acdee0fc7",
   "metadata": {},
   "outputs": [],
   "source": [
    "# Lidando com valores ausentes\n",
    "x = x.fillna(x.mean())  # Preencher valores ausentes com a média"
   ]
  },
  {
   "cell_type": "markdown",
   "id": "4ec3b491-f38b-4360-bbe2-b23cb38c99a5",
   "metadata": {},
   "source": [
    "# Normalizando dados\n",
    "\n",
    "A normalização de dados é uma técnica comum de pré-processamento utilizada em machine learning para ajustar as características (ou atributos) dos dados para uma escala específica ou um intervalo padronizado. O objetivo da normalização é tornar os dados comparáveis e facilitar o processo de treinamento dos modelos, melhorando o desempenho e a convergência durante o treinamento.\n",
    "\n",
    "A normalização é particularmente importante quando os atributos têm escalas diferentes, variando em ordens de grandeza distintas. Essa discrepância nas escalas pode afetar negativamente o desempenho de muitos algoritmos de machine learning, especialmente aqueles que utilizam medidas de distância, como k-Nearest Neighbors (k-NN) ou algoritmos baseados em gradiente."
   ]
  },
  {
   "cell_type": "code",
   "execution_count": 16,
   "id": "5b610211-e6c8-42bb-a098-7747c12d5263",
   "metadata": {},
   "outputs": [],
   "source": [
    "from sklearn.preprocessing import StandardScaler\n",
    "\n",
    "# Normalizando/Padronizando os dados\n",
    "scaler = StandardScaler()\n",
    "X = scaler.fit_transform(x)"
   ]
  },
  {
   "cell_type": "markdown",
   "id": "e36d353b-589e-4572-8691-b7426e8c4ec4",
   "metadata": {},
   "source": [
    "# Treinamento modelo \n",
    "\n",
    "O treinamento de um modelo de machine learning é o processo pelo qual o algoritmo \"aprende\" a relação entre os dados de entrada (características ou atributos) e os rótulos (ou variável alvo) associados a esses dados. Em outras palavras, é durante o treinamento que o modelo ajusta seus parâmetros de modo a mapear corretamente os padrões nos dados, permitindo que ele faça previsões ou classificações em novos dados que nunca foram vistos anteriormente.\n",
    "\n",
    "O processo de treinamento envolve as seguintes etapas:\n",
    "\n",
    "Preparação dos dados: Os dados de treinamento precisam ser preparados e organizados antes do início do treinamento. Isso inclui o pré-processamento dos dados, como tratamento de valores ausentes, normalização, codificação de variáveis categóricas, entre outros.\n",
    "\n",
    "Definição do modelo: É escolhido o tipo de algoritmo ou modelo de machine learning a ser utilizado para a tarefa em questão. A escolha do modelo depende do tipo de problema, seja ele de classificação, regressão, agrupamento ou outro.\n",
    "\n",
    "Divisão dos dados: O conjunto de dados é dividido em duas partes principais: o conjunto de treinamento e o conjunto de teste. O conjunto de treinamento é usado para ensinar o modelo a aprender os padrões nos dados, enquanto o conjunto de teste é usado para avaliar o desempenho do modelo em dados não vistos durante o treinamento.\n",
    "\n",
    "Treinamento: Durante o treinamento, o modelo recebe os dados de treinamento e ajusta seus parâmetros para minimizar uma função de perda (loss function) que quantifica o quão bem o modelo está se comportando em relação aos rótulos reais dos dados.\n",
    "\n",
    "Validação e ajuste de hiperparâmetros: Em muitos casos, é necessário ajustar os hiperparâmetros do modelo para obter um melhor desempenho. Isso pode ser feito utilizando técnicas como GridSearchCV ou Random Search.\n",
    "\n",
    "Avaliação do desempenho: Após o treinamento, o modelo é avaliado usando o conjunto de teste para medir sua capacidade de generalização em dados não vistos anteriormente. Isso ajuda a verificar se o modelo está realizando previsões precisas e confiáveis.\n",
    "\n",
    "Implantação: Após o treinamento e validação, o modelo pode ser implantado em um ambiente de produção para fazer previsões ou classificações em novos dados.\n",
    "\n",
    "O treinamento de um modelo de machine learning é uma etapa essencial para a criação de um sistema inteligente e depende de diversos fatores, como a qualidade dos dados, a escolha adequada do modelo e a otimização dos hiperparâmetros. Um modelo bem treinado tem o potencial de realizar tarefas complexas e tomar decisões baseadas em padrões ocultos nos dados.\n",
    "\n",
    "- 20 para os dados de treino e 80 para teste e random state igual a zero"
   ]
  },
  {
   "cell_type": "code",
   "execution_count": 17,
   "id": "621efcd5-db9b-44b5-a68c-b4cd0c0646ee",
   "metadata": {},
   "outputs": [],
   "source": [
    "from sklearn.model_selection import train_test_split\n",
    "\n",
    "x_train, x_test, y_train, y_test = train_test_split(x, \n",
    "                                                    y, \n",
    "                                                    test_size=0.2, \n",
    "                                                    random_state=42)"
   ]
  },
  {
   "cell_type": "code",
   "execution_count": 18,
   "id": "ed3f5fc2-a228-4245-b5fe-035eb077dddb",
   "metadata": {},
   "outputs": [
    {
     "data": {
      "text/plain": [
       "(13953, 9)"
      ]
     },
     "execution_count": 18,
     "metadata": {},
     "output_type": "execute_result"
    }
   ],
   "source": [
    "# Total de linhas e colunas e linhas dos dados de treino x\n",
    "x_train.shape"
   ]
  },
  {
   "cell_type": "code",
   "execution_count": 19,
   "id": "521e2772-4715-4b44-80a3-a3009bb6a33c",
   "metadata": {},
   "outputs": [
    {
     "data": {
      "text/plain": [
       "(13953,)"
      ]
     },
     "execution_count": 19,
     "metadata": {},
     "output_type": "execute_result"
    }
   ],
   "source": [
    "# Total de linhas dos dados de treino y\n",
    "y_train.shape"
   ]
  },
  {
   "cell_type": "code",
   "execution_count": 20,
   "id": "7da8fe43-bbfb-4679-8680-56549e668daa",
   "metadata": {},
   "outputs": [
    {
     "data": {
      "text/plain": [
       "(3489, 9)"
      ]
     },
     "execution_count": 20,
     "metadata": {},
     "output_type": "execute_result"
    }
   ],
   "source": [
    "# Total de linhas e colunas dos dados de treino x teste \n",
    "x_test.shape"
   ]
  },
  {
   "cell_type": "code",
   "execution_count": 21,
   "id": "f57d5fab-3dba-418e-ad47-e4be3479e01c",
   "metadata": {},
   "outputs": [
    {
     "data": {
      "text/plain": [
       "(3489,)"
      ]
     },
     "execution_count": 21,
     "metadata": {},
     "output_type": "execute_result"
    }
   ],
   "source": [
    "# Total de linhas e colunas dos dados de treino y teste \n",
    "y_test.shape"
   ]
  },
  {
   "cell_type": "markdown",
   "id": "d771ee6e-86ab-4fe9-9928-ed70fa99fba1",
   "metadata": {},
   "source": [
    "# Hiperparâmetros machine learning\n",
    "\n",
    "\n",
    "Em machine learning, hiperparâmetros são parâmetros que não são aprendidos diretamente pelo modelo durante o processo de treinamento. Eles são configurados antes do treinamento e têm a finalidade de controlar o comportamento e o desempenho do algoritmo de aprendizado.\n",
    "\n",
    "Ao contrário dos parâmetros do modelo, que são ajustados pelo algoritmo durante o treinamento para se adaptar aos dados específicos do conjunto de treinamento, os hiperparâmetros são definidos pelo cientista de dados ou engenheiro de machine learning com base no conhecimento do problema e do algoritmo utilizado.\n",
    "\n",
    "A escolha adequada dos hiperparâmetros pode influenciar significativamente o desempenho, a capacidade de generalização e a eficiência do modelo. Em muitos casos, encontrar os melhores hiperparâmetros é uma tarefa desafiadora, e é aí que técnicas como GridSearchCV e Random Search entram em jogo para otimizar esses valores.\n",
    "\n",
    "Alguns exemplos de hiperparâmetros em diferentes algoritmos de machine learning incluem:\n",
    "\n",
    "1) Modelos de árvore de decisão:\n",
    "\n",
    "- Profundidade máxima da árvore (max_depth)\n",
    "\n",
    "- Número mínimo de amostras em um nó folha (min_samples_leaf)\n",
    "\n",
    "- Número mínimo de amostras necessárias para dividir um nó interno (min_samples_split)\n",
    "\n",
    "- Modelos de Support Vector Machines (SVM):\n",
    "\n",
    "2) Parâmetro de regularização C\n",
    "\n",
    "- Tipo de kernel (linear, polinomial, RBF, etc.)\n",
    "\n",
    "- Modelos de redes neurais (Deep Learning):\n",
    "\n",
    "3) Número de camadas ocultas\n",
    "\n",
    "- Número de neurônios em cada camada\n",
    "\n",
    "- Taxa de aprendizado (learning rate)\n",
    "\n",
    "- Modelos de Regressão Linear:\n",
    "\n",
    "4) Coeficiente de regularização (alpha)\n",
    "\n",
    "- Modelos de k-Nearest Neighbors (k-NN):\n",
    "\n",
    "- Número de vizinhos (k)\n",
    "\n",
    "Esses são apenas alguns exemplos, e a quantidade e o tipo de hiperparâmetros podem variar dependendo do algoritmo de machine learning utilizado. A definição correta dos hiperparâmetros é crucial para obter um modelo com bom desempenho e capacidade de generalização em diferentes conjuntos de dados. É comum realizar a otimização desses hiperparâmetros usando técnicas como GridSearchCV ou Random Search para encontrar as melhores configurações que produzam o modelo mais adequado para a tarefa em questão."
   ]
  },
  {
   "cell_type": "markdown",
   "id": "08d9a0ff-a521-438a-a29e-539353d10a43",
   "metadata": {},
   "source": [
    "**Encontrando o valor de K**"
   ]
  },
  {
   "cell_type": "code",
   "execution_count": 131,
   "id": "a3f21afc-4f01-42a3-9b40-98225e48cefc",
   "metadata": {},
   "outputs": [
    {
     "data": {
      "image/png": "[encoded data removed]",
      "text/plain": [
       "<Figure size 800x500 with 1 Axes>"
      ]
     },
     "metadata": {},
     "output_type": "display_data"
    },
    {
     "name": "stdout",
     "output_type": "stream",
     "text": [
      "CPU times: total: 453 ms\n",
      "Wall time: 1.46 s\n"
     ]
    }
   ],
   "source": [
    "%%time\n",
    "\n",
    "# Importando biblioteca\n",
    "from sklearn.neighbors import KNeighborsClassifier\n",
    "\n",
    "# Lista de valores de k a serem testados\n",
    "k_values = list(range(1, 21))  # Substitua pelos valores de k que deseja testar\n",
    "\n",
    "# Lista para armazenar as acurácias\n",
    "accuracies = []\n",
    "\n",
    "# Iterar sobre os valores de k e calcular a acurácia\n",
    "for k in k_values:\n",
    "    knn = KNeighborsClassifier(n_neighbors=k)\n",
    "    knn.fit(x_train, y_train)\n",
    "    y_pred = knn.predict(x_test)\n",
    "    accuracy = accuracy_score(y_test, y_pred)\n",
    "    accuracies.append(accuracy)\n",
    "\n",
    "# Plotar o gráfico de acurácia versus k\n",
    "plt.figure(figsize=(8, 5))\n",
    "plt.plot(k_values, accuracies)\n",
    "plt.xlabel('Valor de k')\n",
    "plt.ylabel('Acurácia')\n",
    "plt.title('valor de k')\n",
    "plt.xticks(k_values)\n",
    "plt.show()"
   ]
  },
  {
   "cell_type": "markdown",
   "id": "62293a99-603d-4410-809b-c7fd0b70c424",
   "metadata": {},
   "source": [
    "# GridSearchCV\n",
    "\n",
    "GridSearchCV, abreviação de \"Grid Search Cross-Validation\", é uma técnica utilizada para otimizar os hiperparâmetros de um modelo de machine learning de forma sistemática. Hiperparâmetros são parâmetros definidos antes do treinamento do modelo e não são aprendidos a partir dos dados, ao contrário dos parâmetros do modelo que são ajustados durante o treinamento.\n",
    "\n",
    "A técnica de GridSearchCV busca encontrar a combinação ideal de valores para os hiperparâmetros do modelo, de forma a maximizar o desempenho do modelo em uma métrica específica, como acurácia, precisão ou F1-score. Essa busca é feita por meio da avaliação do modelo em várias combinações de valores para os hiperparâmetros, realizando um processo de validação cruzada (cross-validation) para evitar problemas de overfitting e garantir resultados mais robustos.\n",
    "\n",
    "O procedimento básico do GridSearchCV é o seguinte:\n",
    "\n",
    "Definição do espaço de busca: É necessário definir um conjunto de valores possíveis para cada hiperparâmetro que se deseja otimizar. Por exemplo, para o parâmetro \"número de vizinhos\" (k) em um modelo k-NN, pode-se definir uma lista de possíveis valores como [1, 3, 5, 7].\n",
    "\n",
    "Criação do grid de hiperparâmetros: O GridSearchCV cria todas as combinações possíveis entre os valores definidos para os diferentes hiperparâmetros. Por exemplo, se tivermos dois hiperparâmetros a serem otimizados, cada um com três valores possíveis, o GridSearchCV criará um grid com 9 combinações.\n",
    "\n",
    "Treinamento e validação cruzada: Para cada combinação de hiperparâmetros, o modelo é treinado e avaliado utilizando um processo de validação cruzada, onde os dados são divididos em \"folds\" (dobras) e o modelo é treinado em várias iterações, alternando entre treino e teste em diferentes partes do conjunto de dados.\n",
    "\n",
    "Avaliação do desempenho: Uma métrica de avaliação é utilizada para medir o desempenho do modelo em cada combinação de hiperparâmetros. A métrica pode variar dependendo do tipo de problema, como acurácia para classificação ou erro médio para regressão.\n",
    "\n",
    "Seleção do melhor modelo: Após a busca por todas as combinações de hiperparâmetros, o GridSearchCV seleciona o modelo que obteve o melhor desempenho de acordo com a métrica especificada.\n",
    "\n",
    "O GridSearchCV é uma técnica amplamente utilizada para encontrar os melhores hiperparâmetros para modelos de machine learning, permitindo que os modelos sejam ajustados de maneira mais precisa e otimizada, resultando em modelos com melhor desempenho e generalização para novos dados."
   ]
  },
  {
   "cell_type": "markdown",
   "id": "eac3d47c-003c-4f1a-b720-3dba5502e8cc",
   "metadata": {},
   "source": [
    "# Modelo 1 - K-NN GridSearchCV"
   ]
  },
  {
   "cell_type": "code",
   "execution_count": 52,
   "id": "b14f4704-9685-4c1e-8f6f-5612d5373b39",
   "metadata": {},
   "outputs": [
    {
     "name": "stdout",
     "output_type": "stream",
     "text": [
      "Melhores hiperparâmetros: {'n_neighbors': 9, 'weights': 'distance'}\n",
      "CPU times: total: 500 ms\n",
      "Wall time: 1.59 s\n"
     ]
    },
    {
     "data": {
      "text/html": [
       "<style>#sk-container-id-2 {color: black;background-color: white;}#sk-container-id-2 pre{padding: 0;}#sk-container-id-2 div.sk-toggleable {background-color: white;}#sk-container-id-2 label.sk-toggleable__label {cursor: pointer;display: block;width: 100%;margin-bottom: 0;padding: 0.3em;box-sizing: border-box;text-align: center;}#sk-container-id-2 label.sk-toggleable__label-arrow:before {content: \"▸\";float: left;margin-right: 0.25em;color: #696969;}#sk-container-id-2 label.sk-toggleable__label-arrow:hover:before {color: black;}#sk-container-id-2 div.sk-estimator:hover label.sk-toggleable__label-arrow:before {color: black;}#sk-container-id-2 div.sk-toggleable__content {max-height: 0;max-width: 0;overflow: hidden;text-align: left;background-color: #f0f8ff;}#sk-container-id-2 div.sk-toggleable__content pre {margin: 0.2em;color: black;border-radius: 0.25em;background-color: #f0f8ff;}#sk-container-id-2 input.sk-toggleable__control:checked~div.sk-toggleable__content {max-height: 200px;max-width: 100%;overflow: auto;}#sk-container-id-2 input.sk-toggleable__control:checked~label.sk-toggleable__label-arrow:before {content: \"▾\";}#sk-container-id-2 div.sk-estimator input.sk-toggleable__control:checked~label.sk-toggleable__label {background-color: #d4ebff;}#sk-container-id-2 div.sk-label input.sk-toggleable__control:checked~label.sk-toggleable__label {background-color: #d4ebff;}#sk-container-id-2 input.sk-hidden--visually {border: 0;clip: rect(1px 1px 1px 1px);clip: rect(1px, 1px, 1px, 1px);height: 1px;margin: -1px;overflow: hidden;padding: 0;position: absolute;width: 1px;}#sk-container-id-2 div.sk-estimator {font-family: monospace;background-color: #f0f8ff;border: 1px dotted black;border-radius: 0.25em;box-sizing: border-box;margin-bottom: 0.5em;}#sk-container-id-2 div.sk-estimator:hover {background-color: #d4ebff;}#sk-container-id-2 div.sk-parallel-item::after {content: \"\";width: 100%;border-bottom: 1px solid gray;flex-grow: 1;}#sk-container-id-2 div.sk-label:hover label.sk-toggleable__label {background-color: #d4ebff;}#sk-container-id-2 div.sk-serial::before {content: \"\";position: absolute;border-left: 1px solid gray;box-sizing: border-box;top: 0;bottom: 0;left: 50%;z-index: 0;}#sk-container-id-2 div.sk-serial {display: flex;flex-direction: column;align-items: center;background-color: white;padding-right: 0.2em;padding-left: 0.2em;position: relative;}#sk-container-id-2 div.sk-item {position: relative;z-index: 1;}#sk-container-id-2 div.sk-parallel {display: flex;align-items: stretch;justify-content: center;background-color: white;position: relative;}#sk-container-id-2 div.sk-item::before, #sk-container-id-2 div.sk-parallel-item::before {content: \"\";position: absolute;border-left: 1px solid gray;box-sizing: border-box;top: 0;bottom: 0;left: 50%;z-index: -1;}#sk-container-id-2 div.sk-parallel-item {display: flex;flex-direction: column;z-index: 1;position: relative;background-color: white;}#sk-container-id-2 div.sk-parallel-item:first-child::after {align-self: flex-end;width: 50%;}#sk-container-id-2 div.sk-parallel-item:last-child::after {align-self: flex-start;width: 50%;}#sk-container-id-2 div.sk-parallel-item:only-child::after {width: 0;}#sk-container-id-2 div.sk-dashed-wrapped {border: 1px dashed gray;margin: 0 0.4em 0.5em 0.4em;box-sizing: border-box;padding-bottom: 0.4em;background-color: white;}#sk-container-id-2 div.sk-label label {font-family: monospace;font-weight: bold;display: inline-block;line-height: 1.2em;}#sk-container-id-2 div.sk-label-container {text-align: center;}#sk-container-id-2 div.sk-container {/* jupyter's `normalize.less` sets `[hidden] { display: none; }` but bootstrap.min.css set `[hidden] { display: none !important; }` so we also need the `!important` here to be able to override the default hidden behavior on the sphinx rendered scikit-learn.org. See: https://github.com/scikit-learn/scikit-learn/issues/21755 */display: inline-block !important;position: relative;}#sk-container-id-2 div.sk-text-repr-fallback {display: none;}</style><div id=\"sk-container-id-2\" class=\"sk-top-container\"><div class=\"sk-text-repr-fallback\"><pre>KNeighborsClassifier(metric=&#x27;manhattan&#x27;, n_neighbors=9, weights=&#x27;distance&#x27;)</pre><b>In a Jupyter environment, please rerun this cell to show the HTML representation or trust the notebook. <br />On GitHub, the HTML representation is unable to render, please try loading this page with nbviewer.org.</b></div><div class=\"sk-container\" hidden><div class=\"sk-item\"><div class=\"sk-estimator sk-toggleable\"><input class=\"sk-toggleable__control sk-hidden--visually\" id=\"sk-estimator-id-2\" type=\"checkbox\" checked><label for=\"sk-estimator-id-2\" class=\"sk-toggleable__label sk-toggleable__label-arrow\">KNeighborsClassifier</label><div class=\"sk-toggleable__content\"><pre>KNeighborsClassifier(metric=&#x27;manhattan&#x27;, n_neighbors=9, weights=&#x27;distance&#x27;)</pre></div></div></div></div></div>"
      ],
      "text/plain": [
       "KNeighborsClassifier(metric='manhattan', n_neighbors=9, weights='distance')"
      ]
     },
     "execution_count": 52,
     "metadata": {},
     "output_type": "execute_result"
    }
   ],
   "source": [
    "%%time\n",
    "\n",
    "# Importando biblioteca\n",
    "from sklearn.model_selection import GridSearchCV\n",
    "from sklearn.neighbors import KNeighborsClassifier\n",
    "\n",
    "# Definir a grade de hiperparâmetros para o KNN com distância de Manhattan\n",
    "param_grid = {\n",
    "    'n_neighbors': [3, 5, 7, 9],        # Número de vizinhos\n",
    "    'weights': ['uniform', 'distance']  # Peso dos vizinhos (uniforme ou inversamente proporcional à distância)\n",
    "}\n",
    "\n",
    "# Criar o modelo KNN com distância de Manhattan\n",
    "knn = KNeighborsClassifier(metric='manhattan')\n",
    "\n",
    "# Criar o objeto GridSearchCV para busca dos melhores hiperparâmetros\n",
    "grid_search = GridSearchCV(knn, param_grid, cv=5, scoring='accuracy')\n",
    "\n",
    "\n",
    "# Realizar a busca dos melhores hiperparâmetros usando os dados de treinamento\n",
    "grid_search.fit(x_train, y_train)\n",
    "\n",
    "# Obter os melhores hiperparâmetros encontrados\n",
    "best_params = grid_search.best_params_\n",
    "print(\"Melhores hiperparâmetros:\", best_params)\n",
    "\n",
    "# Treinar o modelo com os melhores hiperparâmetros no conjunto de treinamento completo\n",
    "best_knn = KNeighborsClassifier(n_neighbors=best_params['n_neighbors'],\n",
    "                                weights=best_params['weights'],\n",
    "                                metric='manhattan')\n",
    "best_knn.fit(x_train, y_train)"
   ]
  },
  {
   "cell_type": "code",
   "execution_count": 53,
   "id": "39aec1e2-8cd1-4cdb-8eb7-560e5e1e4c1e",
   "metadata": {},
   "outputs": [
    {
     "data": {
      "text/plain": [
       "array([0, 1, 1, ..., 0, 0, 1], dtype=int64)"
      ]
     },
     "execution_count": 53,
     "metadata": {},
     "output_type": "execute_result"
    }
   ],
   "source": [
    "# Fazer previsões no conjunto de teste\n",
    "y_pred = best_knn.predict(x_test)\n",
    "y_pred"
   ]
  },
  {
   "cell_type": "code",
   "execution_count": 104,
   "id": "ee75aba2-a10d-4904-a63a-66450a5ff866",
   "metadata": {},
   "outputs": [
    {
     "name": "stdout",
     "output_type": "stream",
     "text": [
      "Acurácia - K-NN GridSearchCV: 96.47\n"
     ]
    }
   ],
   "source": [
    "# Accuracy score model\n",
    "accuracy_knn_GridSearchCV = accuracy_score(y_test, y_pred)\n",
    "print(\"Acurácia - K-NN GridSearchCV: %.2f\" % (accuracy_knn_GridSearchCV * 100))"
   ]
  },
  {
   "cell_type": "code",
   "execution_count": 116,
   "id": "f8d052a7-3971-42ff-a1d9-33465f6678f9",
   "metadata": {},
   "outputs": [
    {
     "name": "stdout",
     "output_type": "stream",
     "text": [
      "Confusion matrix - K-NN GridSearchCV \n",
      "\n",
      " [[1656   58]\n",
      " [  65 1710]]\n",
      "\n",
      "True Positives(TP) =  1656\n",
      "\n",
      "True Negatives(TN) =  1710\n",
      "\n",
      "False Positives(FP) =  58\n",
      "\n",
      "False Negatives(FN) =  65\n"
     ]
    }
   ],
   "source": [
    "matrix_confusion3 = confusion_matrix(y_test, y_pred)\n",
    "\n",
    "print('Confusion matrix - K-NN GridSearchCV \\n\\n', matrix_confusion3)\n",
    "print('\\nTrue Positives(TP) = ', matrix_confusion3[0,0])\n",
    "print('\\nTrue Negatives(TN) = ', matrix_confusion3[1,1])\n",
    "print('\\nFalse Positives(FP) = ', matrix_confusion3[0,1])\n",
    "print('\\nFalse Negatives(FN) = ', matrix_confusion3[1,0])"
   ]
  },
  {
   "cell_type": "code",
   "execution_count": 66,
   "id": "ec0ce066-e7eb-4de9-b1d0-21ba57989500",
   "metadata": {},
   "outputs": [
    {
     "name": "stdout",
     "output_type": "stream",
     "text": [
      "Modelo - K-NN GridSearchCV\n",
      "\n",
      "\n",
      "              precision    recall  f1-score   support\n",
      "\n",
      "           0       0.90      0.94      0.92      1714\n",
      "           1       0.94      0.90      0.92      1775\n",
      "\n",
      "    accuracy                           0.92      3489\n",
      "   macro avg       0.92      0.92      0.92      3489\n",
      "weighted avg       0.92      0.92      0.92      3489\n",
      "\n"
     ]
    }
   ],
   "source": [
    "# Classification report model knn\n",
    "class_report = classification_report(y_test, y_pred)\n",
    "print(\"Modelo - K-NN GridSearchCV\")\n",
    "print(\"\\n\")\n",
    "print(class_report)"
   ]
  },
  {
   "cell_type": "code",
   "execution_count": 76,
   "id": "f8315dc8-efb8-4d0d-be38-6e662aa30eb6",
   "metadata": {},
   "outputs": [
    {
     "data": {
      "image/png": "[encoded data removed]",
      "text/plain": [
       "<Figure size 800x500 with 2 Axes>"
      ]
     },
     "metadata": {},
     "output_type": "display_data"
    }
   ],
   "source": [
    "# Confusion matrix\n",
    "matrix_confusion_4 = confusion_matrix(y_test, y_pred)\n",
    "\n",
    "plt.figure(figsize=(8, 5))\n",
    "ax = plt.subplot()\n",
    "sns.heatmap(matrix_confusion_4, annot=True, ax = ax, fmt = \".2f\", cmap=\"Paired\"); \n",
    "ax.set_title('Confusion Matrix - KNN GridSearchCV'); \n",
    "ax.xaxis.set_ticklabels([\"0\", \"1\"]); ax.yaxis.set_ticklabels([\"0\", \"1\"]);"
   ]
  },
  {
   "cell_type": "markdown",
   "id": "750a1863-c9a3-4f3b-b4e7-4bee76ba07a1",
   "metadata": {},
   "source": [
    "# Modelo 2 K-NN - Random search\n",
    "\n",
    "Random Search, ou busca aleatória, é uma técnica de otimização de hiperparâmetros para modelos de machine learning. Assim como o GridSearchCV, o Random Search tem como objetivo encontrar a combinação ideal de hiperparâmetros que maximize o desempenho do modelo em uma métrica específica.\n",
    "\n",
    "A principal diferença entre o Random Search e o GridSearchCV está na estratégia de busca pelos hiperparâmetros. Enquanto o GridSearchCV realiza uma busca exaustiva e sistemática, percorrendo todas as combinações possíveis dos valores definidos para os hiperparâmetros, o Random Search realiza a busca de forma aleatória, amostrando diferentes combinações de valores em cada iteração.\n",
    "\n",
    "O procedimento básico do Random Search é o seguinte:\n",
    "\n",
    "Definição do espaço de busca: Da mesma forma que no GridSearchCV, é necessário definir um conjunto de valores possíveis para cada hiperparâmetro que se deseja otimizar.\n",
    "\n",
    "Número de iterações: É preciso determinar o número de iterações ou tentativas que o algoritmo fará. Cada iteração corresponde a uma combinação aleatória de hiperparâmetros.\n",
    "\n",
    "Amostragem aleatória: Em cada iteração, o Random Search seleciona aleatoriamente uma combinação de valores para os hiperparâmetros dentro do espaço de busca definido.\n",
    "\n",
    "Treinamento e validação cruzada: Para cada combinação de hiperparâmetros, o modelo é treinado e avaliado utilizando um processo de validação cruzada, assim como no GridSearchCV.\n",
    "\n",
    "Avaliação do desempenho: Uma métrica de avaliação é utilizada para medir o desempenho do modelo em cada combinação de hiperparâmetros.\n",
    "\n",
    "Seleção do melhor modelo: Após o número pré-determinado de iterações, o Random Search seleciona o modelo que obteve o melhor desempenho de acordo com a métrica especificada.\n",
    "\n",
    "A principal vantagem do Random Search em relação ao GridSearchCV é que, para um número fixo de iterações, o Random Search geralmente encontra bons conjuntos de hiperparâmetros mais rapidamente, uma vez que não percorre todas as combinações possíveis. Isso pode ser especialmente útil quando o espaço de busca é muito grande e a busca exaustiva seria computacionalmente inviável.\n",
    "\n",
    "Em resumo, o Random Search é uma alternativa eficiente e eficaz ao GridSearchCV para a otimização de hiperparâmetros em modelos de machine learning, pois permite encontrar boas combinações de valores de forma mais rápida e menos custosa computacionalmente."
   ]
  },
  {
   "cell_type": "code",
   "execution_count": 101,
   "id": "1504f599-566d-42ac-9075-17cb42d4fe3b",
   "metadata": {},
   "outputs": [
    {
     "name": "stdout",
     "output_type": "stream",
     "text": [
      "Melhores hiperparâmetros: {'weights': 'distance', 'n_neighbors': 14}\n"
     ]
    },
    {
     "data": {
      "text/html": [
       "<style>#sk-container-id-6 {color: black;background-color: white;}#sk-container-id-6 pre{padding: 0;}#sk-container-id-6 div.sk-toggleable {background-color: white;}#sk-container-id-6 label.sk-toggleable__label {cursor: pointer;display: block;width: 100%;margin-bottom: 0;padding: 0.3em;box-sizing: border-box;text-align: center;}#sk-container-id-6 label.sk-toggleable__label-arrow:before {content: \"▸\";float: left;margin-right: 0.25em;color: #696969;}#sk-container-id-6 label.sk-toggleable__label-arrow:hover:before {color: black;}#sk-container-id-6 div.sk-estimator:hover label.sk-toggleable__label-arrow:before {color: black;}#sk-container-id-6 div.sk-toggleable__content {max-height: 0;max-width: 0;overflow: hidden;text-align: left;background-color: #f0f8ff;}#sk-container-id-6 div.sk-toggleable__content pre {margin: 0.2em;color: black;border-radius: 0.25em;background-color: #f0f8ff;}#sk-container-id-6 input.sk-toggleable__control:checked~div.sk-toggleable__content {max-height: 200px;max-width: 100%;overflow: auto;}#sk-container-id-6 input.sk-toggleable__control:checked~label.sk-toggleable__label-arrow:before {content: \"▾\";}#sk-container-id-6 div.sk-estimator input.sk-toggleable__control:checked~label.sk-toggleable__label {background-color: #d4ebff;}#sk-container-id-6 div.sk-label input.sk-toggleable__control:checked~label.sk-toggleable__label {background-color: #d4ebff;}#sk-container-id-6 input.sk-hidden--visually {border: 0;clip: rect(1px 1px 1px 1px);clip: rect(1px, 1px, 1px, 1px);height: 1px;margin: -1px;overflow: hidden;padding: 0;position: absolute;width: 1px;}#sk-container-id-6 div.sk-estimator {font-family: monospace;background-color: #f0f8ff;border: 1px dotted black;border-radius: 0.25em;box-sizing: border-box;margin-bottom: 0.5em;}#sk-container-id-6 div.sk-estimator:hover {background-color: #d4ebff;}#sk-container-id-6 div.sk-parallel-item::after {content: \"\";width: 100%;border-bottom: 1px solid gray;flex-grow: 1;}#sk-container-id-6 div.sk-label:hover label.sk-toggleable__label {background-color: #d4ebff;}#sk-container-id-6 div.sk-serial::before {content: \"\";position: absolute;border-left: 1px solid gray;box-sizing: border-box;top: 0;bottom: 0;left: 50%;z-index: 0;}#sk-container-id-6 div.sk-serial {display: flex;flex-direction: column;align-items: center;background-color: white;padding-right: 0.2em;padding-left: 0.2em;position: relative;}#sk-container-id-6 div.sk-item {position: relative;z-index: 1;}#sk-container-id-6 div.sk-parallel {display: flex;align-items: stretch;justify-content: center;background-color: white;position: relative;}#sk-container-id-6 div.sk-item::before, #sk-container-id-6 div.sk-parallel-item::before {content: \"\";position: absolute;border-left: 1px solid gray;box-sizing: border-box;top: 0;bottom: 0;left: 50%;z-index: -1;}#sk-container-id-6 div.sk-parallel-item {display: flex;flex-direction: column;z-index: 1;position: relative;background-color: white;}#sk-container-id-6 div.sk-parallel-item:first-child::after {align-self: flex-end;width: 50%;}#sk-container-id-6 div.sk-parallel-item:last-child::after {align-self: flex-start;width: 50%;}#sk-container-id-6 div.sk-parallel-item:only-child::after {width: 0;}#sk-container-id-6 div.sk-dashed-wrapped {border: 1px dashed gray;margin: 0 0.4em 0.5em 0.4em;box-sizing: border-box;padding-bottom: 0.4em;background-color: white;}#sk-container-id-6 div.sk-label label {font-family: monospace;font-weight: bold;display: inline-block;line-height: 1.2em;}#sk-container-id-6 div.sk-label-container {text-align: center;}#sk-container-id-6 div.sk-container {/* jupyter's `normalize.less` sets `[hidden] { display: none; }` but bootstrap.min.css set `[hidden] { display: none !important; }` so we also need the `!important` here to be able to override the default hidden behavior on the sphinx rendered scikit-learn.org. See: https://github.com/scikit-learn/scikit-learn/issues/21755 */display: inline-block !important;position: relative;}#sk-container-id-6 div.sk-text-repr-fallback {display: none;}</style><div id=\"sk-container-id-6\" class=\"sk-top-container\"><div class=\"sk-text-repr-fallback\"><pre>KNeighborsClassifier(metric=&#x27;manhattan&#x27;, n_neighbors=14, weights=&#x27;distance&#x27;)</pre><b>In a Jupyter environment, please rerun this cell to show the HTML representation or trust the notebook. <br />On GitHub, the HTML representation is unable to render, please try loading this page with nbviewer.org.</b></div><div class=\"sk-container\" hidden><div class=\"sk-item\"><div class=\"sk-estimator sk-toggleable\"><input class=\"sk-toggleable__control sk-hidden--visually\" id=\"sk-estimator-id-10\" type=\"checkbox\" checked><label for=\"sk-estimator-id-10\" class=\"sk-toggleable__label sk-toggleable__label-arrow\">KNeighborsClassifier</label><div class=\"sk-toggleable__content\"><pre>KNeighborsClassifier(metric=&#x27;manhattan&#x27;, n_neighbors=14, weights=&#x27;distance&#x27;)</pre></div></div></div></div></div>"
      ],
      "text/plain": [
       "KNeighborsClassifier(metric='manhattan', n_neighbors=14, weights='distance')"
      ]
     },
     "execution_count": 101,
     "metadata": {},
     "output_type": "execute_result"
    }
   ],
   "source": [
    "from sklearn.model_selection import RandomizedSearchCV\n",
    "\n",
    "# Definir a grade de hiperparâmetros para o KNN com distância de Manhattan\n",
    "param_dist = {\n",
    "    'n_neighbors': np.arange(1, 20),   # Número de vizinhos\n",
    "    'weights': ['uniform', 'distance'] # Peso dos vizinhos (uniforme ou inversamente proporcional à distância)\n",
    "}\n",
    "\n",
    "# Criar o modelo KNN com distância de Manhattan\n",
    "knn = KNeighborsClassifier(metric='manhattan')\n",
    "\n",
    "# Criar o objeto RandomizedSearchCV para busca dos melhores hiperparâmetros\n",
    "random_search = RandomizedSearchCV(knn, \n",
    "                                   param_distributions=param_dist, \n",
    "                                   n_iter=10, \n",
    "                                   cv=5, \n",
    "                                   scoring='accuracy', \n",
    "                                   random_state=42)\n",
    "\n",
    "# Realizar a busca dos melhores hiperparâmetros usando os dados de treinamento\n",
    "random_search.fit(x_train, y_train)\n",
    "\n",
    "# Obter os melhores hiperparâmetros encontrados\n",
    "best_params = random_search.best_params_\n",
    "print(\"Melhores hiperparâmetros:\", best_params)\n",
    "\n",
    "# Treinar o modelo com os melhores hiperparâmetros no conjunto de treinamento completo\n",
    "best_knn_2 = KNeighborsClassifier(n_neighbors=best_params['n_neighbors'],\n",
    "                                weights=best_params['weights'],\n",
    "                                metric='manhattan')\n",
    "best_knn_2.fit(x_train, y_train)"
   ]
  },
  {
   "cell_type": "code",
   "execution_count": 70,
   "id": "7e5d065d-9434-4f52-bbd4-08c6b65b7c0c",
   "metadata": {},
   "outputs": [],
   "source": [
    "# Fazer previsões no conjunto de teste\n",
    "model_knn_pred = best_knn.predict(x_test)"
   ]
  },
  {
   "cell_type": "code",
   "execution_count": 103,
   "id": "114ba9ba-ebe2-4e0d-ab97-27dae3d503db",
   "metadata": {},
   "outputs": [
    {
     "name": "stdout",
     "output_type": "stream",
     "text": [
      "Acurácia - K-NN Randomized Search CV: 93.81\n"
     ]
    }
   ],
   "source": [
    "# Accuracy score model\n",
    "accuracy_knn_Randomized_Search_CV = accuracy_score(y_test, model_knn_pred)\n",
    "print(\"Acurácia - K-NN Randomized Search CV: %.2f\" % (accuracy_knn_Randomized_Search_CV * 100))"
   ]
  },
  {
   "cell_type": "code",
   "execution_count": 115,
   "id": "1a746823-e8d3-4111-8d4d-e0f404d6ca3b",
   "metadata": {},
   "outputs": [
    {
     "name": "stdout",
     "output_type": "stream",
     "text": [
      "Confusion matrix - K-NN Randomized Search CV \n",
      "\n",
      " [[1622   92]\n",
      " [ 124 1651]]\n",
      "\n",
      "True Positives(TP) =  1622\n",
      "\n",
      "True Negatives(TN) =  1651\n",
      "\n",
      "False Positives(FP) =  92\n",
      "\n",
      "False Negatives(FN) =  124\n"
     ]
    }
   ],
   "source": [
    "matrix_confusion3 = confusion_matrix(y_test, model_knn_pred)\n",
    "\n",
    "print('Confusion matrix - K-NN Randomized Search CV \\n\\n', matrix_confusion3)\n",
    "print('\\nTrue Positives(TP) = ', matrix_confusion3[0,0])\n",
    "print('\\nTrue Negatives(TN) = ', matrix_confusion3[1,1])\n",
    "print('\\nFalse Positives(FP) = ', matrix_confusion3[0,1])\n",
    "print('\\nFalse Negatives(FN) = ', matrix_confusion3[1,0])"
   ]
  },
  {
   "cell_type": "code",
   "execution_count": 72,
   "id": "a9f263a2-3294-4277-b71e-fa34b418056c",
   "metadata": {},
   "outputs": [
    {
     "name": "stdout",
     "output_type": "stream",
     "text": [
      "Modelo - K-NN Randomized Search CV\n",
      "\n",
      "\n",
      "              precision    recall  f1-score   support\n",
      "\n",
      "           0       0.93      0.95      0.94      1714\n",
      "           1       0.95      0.93      0.94      1775\n",
      "\n",
      "    accuracy                           0.94      3489\n",
      "   macro avg       0.94      0.94      0.94      3489\n",
      "weighted avg       0.94      0.94      0.94      3489\n",
      "\n"
     ]
    }
   ],
   "source": [
    "# Classification report model knn\n",
    "class_report = classification_report(y_test, model_knn_pred)\n",
    "print(\"Modelo - K-NN Randomized Search CV\")\n",
    "print(\"\\n\")\n",
    "print(class_report)"
   ]
  },
  {
   "cell_type": "code",
   "execution_count": 87,
   "id": "089834f5-f6e3-4f3c-9508-ee02eac4ac7a",
   "metadata": {},
   "outputs": [
    {
     "data": {
      "image/png": "[encoded data removed]",
      "text/plain": [
       "<Figure size 800x500 with 2 Axes>"
      ]
     },
     "metadata": {},
     "output_type": "display_data"
    }
   ],
   "source": [
    "# Confusion matrix\n",
    "matrix_confusion_5 = confusion_matrix(y_test, model_knn_pred)\n",
    "\n",
    "plt.figure(figsize=(8, 5))\n",
    "ax = plt.subplot()\n",
    "sns.heatmap(matrix_confusion_5, annot=True, ax = ax, fmt = \".2f\", cmap=\"Paired\"); \n",
    "ax.set_title('Confusion Matrix - K-NN Randomized Search CV'); \n",
    "ax.xaxis.set_ticklabels([\"0\", \"1\"]); ax.yaxis.set_ticklabels([\"0\", \"1\"]);"
   ]
  },
  {
   "cell_type": "markdown",
   "id": "efc27a52-d3e5-4a93-bdf8-5cb84e454cb9",
   "metadata": {},
   "source": [
    "# Modelo 03 - XGBoost"
   ]
  },
  {
   "cell_type": "code",
   "execution_count": 22,
   "id": "92165489-716e-4d5e-ba9e-8f7a52367065",
   "metadata": {},
   "outputs": [
    {
     "name": "stdout",
     "output_type": "stream",
     "text": [
      "CPU times: total: 844 ms\n",
      "Wall time: 148 ms\n"
     ]
    }
   ],
   "source": [
    "%%time\n",
    "\n",
    "# Importando biblioteca\n",
    "import xgboost as xgb\n",
    "\n",
    "# Definindo os hiperparâmetros a serem ajustados\n",
    "# Criando o modelo XGBoost com os hiperparâmetros definidos\n",
    "params = {\n",
    "    'n_estimators': 100,\n",
    "    'max_depth': 3,\n",
    "    'learning_rate': 0.1,\n",
    "    'subsample': 0.8,\n",
    "    'colsample_bytree': 0.8,\n",
    "    'objective': 'binary:logistic',\n",
    "    'random_state': 42\n",
    "}\n",
    "\n",
    "# Criando o modelo XGBoost com os hiperparâmetros definidos\n",
    "modelo_xgb = xgb.XGBClassifier(**params)\n",
    "\n",
    "# Treinando o modelo\n",
    "modelo_xgb_fit = modelo_xgb.fit(x_train, y_train)"
   ]
  },
  {
   "cell_type": "code",
   "execution_count": 25,
   "id": "5728b0ce-7909-4a2a-ab55-8ba4e05df80a",
   "metadata": {},
   "outputs": [
    {
     "data": {
      "text/plain": [
       "array([0, 1, 1, ..., 0, 0, 1])"
      ]
     },
     "execution_count": 25,
     "metadata": {},
     "output_type": "execute_result"
    }
   ],
   "source": [
    "# Fazendo previsões no conjunto de teste\n",
    "y_pred = modelo_xgb.predict(x_test)\n",
    "y_pred"
   ]
  },
  {
   "cell_type": "code",
   "execution_count": 105,
   "id": "ce77f8c8-787f-470b-a2f3-71c4ac3f0650",
   "metadata": {},
   "outputs": [
    {
     "name": "stdout",
     "output_type": "stream",
     "text": [
      "Acurácia - XGBoost: 96.47\n"
     ]
    }
   ],
   "source": [
    "# Acúracia do modelo de Regressão logística\n",
    "from sklearn import metrics\n",
    "from sklearn.metrics import accuracy_score\n",
    "\n",
    "accuracy_xgbt = accuracy_score(y_test, y_pred)\n",
    "print(\"Acurácia - XGBoost: %.2f\" % (accuracy_xgbt * 100))"
   ]
  },
  {
   "cell_type": "code",
   "execution_count": 114,
   "id": "0101cfb5-7fbd-4fe0-9fdb-57e4a4e9d391",
   "metadata": {},
   "outputs": [
    {
     "name": "stdout",
     "output_type": "stream",
     "text": [
      "Confusion matrix - XGBoost \n",
      "\n",
      " [[1656   58]\n",
      " [  65 1710]]\n",
      "\n",
      "True Positives(TP) =  1656\n",
      "\n",
      "True Negatives(TN) =  1710\n",
      "\n",
      "False Positives(FP) =  58\n",
      "\n",
      "False Negatives(FN) =  65\n"
     ]
    }
   ],
   "source": [
    "matrix_confusion2 = confusion_matrix(y_test, y_pred)\n",
    "\n",
    "print('Confusion matrix - XGBoost \\n\\n', matrix_confusion2)\n",
    "print('\\nTrue Positives(TP) = ', matrix_confusion2[0,0])\n",
    "print('\\nTrue Negatives(TN) = ', matrix_confusion2[1,1])\n",
    "print('\\nFalse Positives(FP) = ', matrix_confusion2[0,1])\n",
    "print('\\nFalse Negatives(FN) = ', matrix_confusion2[1,0])"
   ]
  },
  {
   "cell_type": "code",
   "execution_count": 28,
   "id": "340774f0-c08a-4311-b0c0-61b870ff8107",
   "metadata": {},
   "outputs": [
    {
     "name": "stdout",
     "output_type": "stream",
     "text": [
      "Modelo - XGBoost\n",
      "\n",
      "              precision    recall  f1-score   support\n",
      "\n",
      "           0       1.00      1.00      1.00      1714\n",
      "           1       1.00      1.00      1.00      1775\n",
      "\n",
      "    accuracy                           1.00      3489\n",
      "   macro avg       1.00      1.00      1.00      3489\n",
      "weighted avg       1.00      1.00      1.00      3489\n",
      "\n"
     ]
    }
   ],
   "source": [
    "# Classification report\n",
    "from sklearn.metrics import classification_report\n",
    "\n",
    "classification = classification_report(y_test, y_test)\n",
    "print(\"Modelo - XGBoost\")\n",
    "print()\n",
    "print(classification)"
   ]
  },
  {
   "cell_type": "code",
   "execution_count": 77,
   "id": "4c066627-5b71-4b88-adb7-a477d2624482",
   "metadata": {},
   "outputs": [
    {
     "data": {
      "image/png": "[encoded data removed]",
      "text/plain": [
       "<Figure size 800x800 with 2 Axes>"
      ]
     },
     "metadata": {},
     "output_type": "display_data"
    }
   ],
   "source": [
    "from sklearn.metrics import confusion_matrix\n",
    "\n",
    "matrix_1 = confusion_matrix(y_pred, y_test)\n",
    "\n",
    "# Plot matriz de confusão\n",
    "plt.figure(figsize=(8, 8))\n",
    "\n",
    "ax = plt.subplot()\n",
    "sns.heatmap(matrix_1, annot=True, ax = ax, fmt = \".1f\", cmap=\"Paired\"); \n",
    "ax.set_title('Confusion Matrix - XGBoost'); \n",
    "ax.xaxis.set_ticklabels([\"0\", \"1\"]); ax.yaxis.set_ticklabels([\"0\", \"1\"]);"
   ]
  },
  {
   "cell_type": "markdown",
   "id": "8b141621-9e05-4ea0-9ead-a4baf7da0ff6",
   "metadata": {},
   "source": [
    "# Pipeline \n",
    "\n",
    "Pipeline de Machine Learning refere-se a uma sequência ordenada de etapas ou processos que são realizados em um fluxo contínuo para desenvolver e implementar um modelo de machine learning. Essas etapas podem incluir pré-processamento de dados, seleção de características, treinamento do modelo, validação, ajuste de hiperparâmetros e avaliação do desempenho do modelo.\n",
    "\n",
    "A ideia por trás do pipeline é facilitar o desenvolvimento, organização e reutilização de código, bem como garantir que todas as etapas necessárias para criar um modelo de machine learning sejam executadas de forma sequencial e consistente.\n",
    "\n",
    "As principais etapas de um pipeline de machine learning podem ser resumidas da seguinte forma:\n",
    "\n",
    "Coleta de dados: O primeiro passo é coletar os dados relevantes para o problema que se deseja resolver por meio do modelo de machine learning.\n",
    "\n",
    "Pré-processamento de dados: Nesta etapa, os dados brutos são limpos, transformados e preparados para serem utilizados pelo modelo. Isso inclui tratamento de dados ausentes, normalização, codificação de variáveis categóricas, entre outras técnicas.\n",
    "\n",
    "Seleção de características: É o processo de escolher as características (ou atributos) mais relevantes do conjunto de dados que serão usadas para treinar o modelo. Isso ajuda a reduzir a dimensionalidade dos dados e pode melhorar o desempenho do modelo.\n",
    "\n",
    "Divisão do conjunto de dados: O conjunto de dados é dividido em subconjuntos de treinamento e teste para avaliar a capacidade de generalização do modelo.\n",
    "\n",
    "Treinamento do modelo: O modelo de machine learning é alimentado com os dados de treinamento para aprender a relação entre as características e os rótulos (ou variável alvo).\n",
    "\n",
    "Ajuste de hiperparâmetros: Muitos modelos de machine learning têm hiperparâmetros que precisam ser configurados para obter o melhor desempenho. O ajuste de hiperparâmetros envolve encontrar a combinação ideal de valores para esses parâmetros.\n",
    "\n",
    "Validação do modelo: O modelo treinado é avaliado utilizando os dados de teste para verificar como ele se comporta em dados não vistos previamente.\n",
    "\n",
    "Avaliação do desempenho: Métricas apropriadas são usadas para medir a qualidade do modelo em termos de acurácia, precisão, recall, F1-score, entre outras.\n",
    "\n",
    "Implantação do modelo: Após a criação e validação do modelo, ele pode ser implantado para fazer previsões em novos dados em ambiente de produção.\n",
    "\n",
    "A criação de um pipeline de machine learning facilita a repetibilidade e a manutenção do processo, permitindo que cientistas de dados e engenheiros de machine learning iterem rapidamente, testando diferentes configurações e abordagens para resolver o problema em questão."
   ]
  },
  {
   "cell_type": "markdown",
   "id": "8386ed37-8208-49b9-97da-cde6fd7a0888",
   "metadata": {},
   "source": [
    "**Pipeline 1 - K-NN**"
   ]
  },
  {
   "cell_type": "code",
   "execution_count": 78,
   "id": "d93ea1f0-db41-4575-97fe-46b59b60d92e",
   "metadata": {},
   "outputs": [
    {
     "data": {
      "text/html": [
       "<style>#sk-container-id-4 {color: black;background-color: white;}#sk-container-id-4 pre{padding: 0;}#sk-container-id-4 div.sk-toggleable {background-color: white;}#sk-container-id-4 label.sk-toggleable__label {cursor: pointer;display: block;width: 100%;margin-bottom: 0;padding: 0.3em;box-sizing: border-box;text-align: center;}#sk-container-id-4 label.sk-toggleable__label-arrow:before {content: \"▸\";float: left;margin-right: 0.25em;color: #696969;}#sk-container-id-4 label.sk-toggleable__label-arrow:hover:before {color: black;}#sk-container-id-4 div.sk-estimator:hover label.sk-toggleable__label-arrow:before {color: black;}#sk-container-id-4 div.sk-toggleable__content {max-height: 0;max-width: 0;overflow: hidden;text-align: left;background-color: #f0f8ff;}#sk-container-id-4 div.sk-toggleable__content pre {margin: 0.2em;color: black;border-radius: 0.25em;background-color: #f0f8ff;}#sk-container-id-4 input.sk-toggleable__control:checked~div.sk-toggleable__content {max-height: 200px;max-width: 100%;overflow: auto;}#sk-container-id-4 input.sk-toggleable__control:checked~label.sk-toggleable__label-arrow:before {content: \"▾\";}#sk-container-id-4 div.sk-estimator input.sk-toggleable__control:checked~label.sk-toggleable__label {background-color: #d4ebff;}#sk-container-id-4 div.sk-label input.sk-toggleable__control:checked~label.sk-toggleable__label {background-color: #d4ebff;}#sk-container-id-4 input.sk-hidden--visually {border: 0;clip: rect(1px 1px 1px 1px);clip: rect(1px, 1px, 1px, 1px);height: 1px;margin: -1px;overflow: hidden;padding: 0;position: absolute;width: 1px;}#sk-container-id-4 div.sk-estimator {font-family: monospace;background-color: #f0f8ff;border: 1px dotted black;border-radius: 0.25em;box-sizing: border-box;margin-bottom: 0.5em;}#sk-container-id-4 div.sk-estimator:hover {background-color: #d4ebff;}#sk-container-id-4 div.sk-parallel-item::after {content: \"\";width: 100%;border-bottom: 1px solid gray;flex-grow: 1;}#sk-container-id-4 div.sk-label:hover label.sk-toggleable__label {background-color: #d4ebff;}#sk-container-id-4 div.sk-serial::before {content: \"\";position: absolute;border-left: 1px solid gray;box-sizing: border-box;top: 0;bottom: 0;left: 50%;z-index: 0;}#sk-container-id-4 div.sk-serial {display: flex;flex-direction: column;align-items: center;background-color: white;padding-right: 0.2em;padding-left: 0.2em;position: relative;}#sk-container-id-4 div.sk-item {position: relative;z-index: 1;}#sk-container-id-4 div.sk-parallel {display: flex;align-items: stretch;justify-content: center;background-color: white;position: relative;}#sk-container-id-4 div.sk-item::before, #sk-container-id-4 div.sk-parallel-item::before {content: \"\";position: absolute;border-left: 1px solid gray;box-sizing: border-box;top: 0;bottom: 0;left: 50%;z-index: -1;}#sk-container-id-4 div.sk-parallel-item {display: flex;flex-direction: column;z-index: 1;position: relative;background-color: white;}#sk-container-id-4 div.sk-parallel-item:first-child::after {align-self: flex-end;width: 50%;}#sk-container-id-4 div.sk-parallel-item:last-child::after {align-self: flex-start;width: 50%;}#sk-container-id-4 div.sk-parallel-item:only-child::after {width: 0;}#sk-container-id-4 div.sk-dashed-wrapped {border: 1px dashed gray;margin: 0 0.4em 0.5em 0.4em;box-sizing: border-box;padding-bottom: 0.4em;background-color: white;}#sk-container-id-4 div.sk-label label {font-family: monospace;font-weight: bold;display: inline-block;line-height: 1.2em;}#sk-container-id-4 div.sk-label-container {text-align: center;}#sk-container-id-4 div.sk-container {/* jupyter's `normalize.less` sets `[hidden] { display: none; }` but bootstrap.min.css set `[hidden] { display: none !important; }` so we also need the `!important` here to be able to override the default hidden behavior on the sphinx rendered scikit-learn.org. See: https://github.com/scikit-learn/scikit-learn/issues/21755 */display: inline-block !important;position: relative;}#sk-container-id-4 div.sk-text-repr-fallback {display: none;}</style><div id=\"sk-container-id-4\" class=\"sk-top-container\"><div class=\"sk-text-repr-fallback\"><pre>Pipeline(steps=[(&#x27;scaler&#x27;, StandardScaler()), (&#x27;knn&#x27;, KNeighborsClassifier())])</pre><b>In a Jupyter environment, please rerun this cell to show the HTML representation or trust the notebook. <br />On GitHub, the HTML representation is unable to render, please try loading this page with nbviewer.org.</b></div><div class=\"sk-container\" hidden><div class=\"sk-item sk-dashed-wrapped\"><div class=\"sk-label-container\"><div class=\"sk-label sk-toggleable\"><input class=\"sk-toggleable__control sk-hidden--visually\" id=\"sk-estimator-id-4\" type=\"checkbox\" ><label for=\"sk-estimator-id-4\" class=\"sk-toggleable__label sk-toggleable__label-arrow\">Pipeline</label><div class=\"sk-toggleable__content\"><pre>Pipeline(steps=[(&#x27;scaler&#x27;, StandardScaler()), (&#x27;knn&#x27;, KNeighborsClassifier())])</pre></div></div></div><div class=\"sk-serial\"><div class=\"sk-item\"><div class=\"sk-estimator sk-toggleable\"><input class=\"sk-toggleable__control sk-hidden--visually\" id=\"sk-estimator-id-5\" type=\"checkbox\" ><label for=\"sk-estimator-id-5\" class=\"sk-toggleable__label sk-toggleable__label-arrow\">StandardScaler</label><div class=\"sk-toggleable__content\"><pre>StandardScaler()</pre></div></div></div><div class=\"sk-item\"><div class=\"sk-estimator sk-toggleable\"><input class=\"sk-toggleable__control sk-hidden--visually\" id=\"sk-estimator-id-6\" type=\"checkbox\" ><label for=\"sk-estimator-id-6\" class=\"sk-toggleable__label sk-toggleable__label-arrow\">KNeighborsClassifier</label><div class=\"sk-toggleable__content\"><pre>KNeighborsClassifier()</pre></div></div></div></div></div></div></div>"
      ],
      "text/plain": [
       "Pipeline(steps=[('scaler', StandardScaler()), ('knn', KNeighborsClassifier())])"
      ]
     },
     "execution_count": 78,
     "metadata": {},
     "output_type": "execute_result"
    }
   ],
   "source": [
    "from sklearn.pipeline import Pipeline\n",
    "\n",
    "# Criar o pipeline com o KNN\n",
    "pipeline = Pipeline([\n",
    "    ('scaler', StandardScaler()), # Etapa de pré-processamento: padronização dos dados\n",
    "    ('knn', KNeighborsClassifier()) # Etapa de modelagem: K-Nearest Neighbors\n",
    "])\n",
    "\n",
    "# Treinar o modelo usando o pipeline no conjunto de treinamento\n",
    "pipeline.fit(x_train, y_train)"
   ]
  },
  {
   "cell_type": "code",
   "execution_count": 83,
   "id": "db328d1d-516c-4443-9db5-7b345704a147",
   "metadata": {},
   "outputs": [],
   "source": [
    "# Fazer previsões no conjunto de teste\n",
    "pred_pipeline = pipeline.predict(x_test)"
   ]
  },
  {
   "cell_type": "code",
   "execution_count": 85,
   "id": "a6fe59ba-fe56-4998-add3-fbd4a97a69cf",
   "metadata": {},
   "outputs": [
    {
     "name": "stdout",
     "output_type": "stream",
     "text": [
      "Acurácia - K-NN Pipeline: 96.47\n"
     ]
    }
   ],
   "source": [
    "# Accuracy score model\n",
    "accuracy_knn = accuracy_score(y_test, pred_pipeline)\n",
    "print(\"Acurácia - K-NN Pipeline: %.2f\" % (accuracy_knn * 100))"
   ]
  },
  {
   "cell_type": "code",
   "execution_count": 86,
   "id": "10634845-4565-4306-8965-0a41ac8c45a9",
   "metadata": {},
   "outputs": [
    {
     "name": "stdout",
     "output_type": "stream",
     "text": [
      "Modelo - K-NN Pipeline\n",
      "\n",
      "\n",
      "              precision    recall  f1-score   support\n",
      "\n",
      "           0       0.96      0.97      0.96      1714\n",
      "           1       0.97      0.96      0.97      1775\n",
      "\n",
      "    accuracy                           0.96      3489\n",
      "   macro avg       0.96      0.96      0.96      3489\n",
      "weighted avg       0.96      0.96      0.96      3489\n",
      "\n"
     ]
    }
   ],
   "source": [
    "# Classification report model knn\n",
    "class_report = classification_report(y_test, pred_pipeline)\n",
    "print(\"Modelo - K-NN Pipeline\")\n",
    "print(\"\\n\")\n",
    "print(class_report)"
   ]
  },
  {
   "cell_type": "code",
   "execution_count": 110,
   "id": "93464f1b-ba9c-4bb5-a00e-666e6c54eb33",
   "metadata": {},
   "outputs": [
    {
     "name": "stdout",
     "output_type": "stream",
     "text": [
      "Confusion matrix - KNN Pipeline \n",
      "\n",
      " [[1683   31]\n",
      " [  27 1748]]\n",
      "\n",
      "True Positives(TP) =  1683\n",
      "\n",
      "True Negatives(TN) =  1748\n",
      "\n",
      "False Positives(FP) =  31\n",
      "\n",
      "False Negatives(FN) =  27\n"
     ]
    }
   ],
   "source": [
    "matrix_confusion_5 = confusion_matrix(y_test, pred_pipeline)\n",
    "\n",
    "print('Confusion matrix - KNN Pipeline \\n\\n', matrix_confusion_5)\n",
    "print('\\nTrue Positives(TP) = ', matrix_confusion_5[0,0])\n",
    "print('\\nTrue Negatives(TN) = ', matrix_confusion_5[1,1])\n",
    "print('\\nFalse Positives(FP) = ', matrix_confusion_5[0,1])\n",
    "print('\\nFalse Negatives(FN) = ', matrix_confusion_5[1,0])"
   ]
  },
  {
   "cell_type": "code",
   "execution_count": 88,
   "id": "1c9f0c27-259b-4cf3-b0aa-7afad04790e4",
   "metadata": {},
   "outputs": [
    {
     "data": {
      "image/png": "[encoded data removed]",
      "text/plain": [
       "<Figure size 800x500 with 2 Axes>"
      ]
     },
     "metadata": {},
     "output_type": "display_data"
    }
   ],
   "source": [
    "# Confusion matrix\n",
    "matrix_confusion_5 = confusion_matrix(y_test, pred_pipeline)\n",
    "\n",
    "plt.figure(figsize=(8, 5))\n",
    "ax = plt.subplot()\n",
    "sns.heatmap(matrix_confusion_5, annot=True, ax = ax, fmt = \".2f\", cmap=\"Paired\"); \n",
    "ax.set_title('Confusion Matrix - K-NN Pipeline'); \n",
    "ax.xaxis.set_ticklabels([\"0\", \"1\"]); ax.yaxis.set_ticklabels([\"0\", \"1\"]);"
   ]
  },
  {
   "cell_type": "markdown",
   "id": "6f36d1be-62ac-4942-8c1f-c50123816399",
   "metadata": {},
   "source": [
    "**Pipeline 2 - XGBoost**"
   ]
  },
  {
   "cell_type": "code",
   "execution_count": 90,
   "id": "4a32c0bc-7d32-4967-9af6-76a2d8e49db9",
   "metadata": {},
   "outputs": [
    {
     "data": {
      "text/html": [
       "<style>#sk-container-id-5 {color: black;background-color: white;}#sk-container-id-5 pre{padding: 0;}#sk-container-id-5 div.sk-toggleable {background-color: white;}#sk-container-id-5 label.sk-toggleable__label {cursor: pointer;display: block;width: 100%;margin-bottom: 0;padding: 0.3em;box-sizing: border-box;text-align: center;}#sk-container-id-5 label.sk-toggleable__label-arrow:before {content: \"▸\";float: left;margin-right: 0.25em;color: #696969;}#sk-container-id-5 label.sk-toggleable__label-arrow:hover:before {color: black;}#sk-container-id-5 div.sk-estimator:hover label.sk-toggleable__label-arrow:before {color: black;}#sk-container-id-5 div.sk-toggleable__content {max-height: 0;max-width: 0;overflow: hidden;text-align: left;background-color: #f0f8ff;}#sk-container-id-5 div.sk-toggleable__content pre {margin: 0.2em;color: black;border-radius: 0.25em;background-color: #f0f8ff;}#sk-container-id-5 input.sk-toggleable__control:checked~div.sk-toggleable__content {max-height: 200px;max-width: 100%;overflow: auto;}#sk-container-id-5 input.sk-toggleable__control:checked~label.sk-toggleable__label-arrow:before {content: \"▾\";}#sk-container-id-5 div.sk-estimator input.sk-toggleable__control:checked~label.sk-toggleable__label {background-color: #d4ebff;}#sk-container-id-5 div.sk-label input.sk-toggleable__control:checked~label.sk-toggleable__label {background-color: #d4ebff;}#sk-container-id-5 input.sk-hidden--visually {border: 0;clip: rect(1px 1px 1px 1px);clip: rect(1px, 1px, 1px, 1px);height: 1px;margin: -1px;overflow: hidden;padding: 0;position: absolute;width: 1px;}#sk-container-id-5 div.sk-estimator {font-family: monospace;background-color: #f0f8ff;border: 1px dotted black;border-radius: 0.25em;box-sizing: border-box;margin-bottom: 0.5em;}#sk-container-id-5 div.sk-estimator:hover {background-color: #d4ebff;}#sk-container-id-5 div.sk-parallel-item::after {content: \"\";width: 100%;border-bottom: 1px solid gray;flex-grow: 1;}#sk-container-id-5 div.sk-label:hover label.sk-toggleable__label {background-color: #d4ebff;}#sk-container-id-5 div.sk-serial::before {content: \"\";position: absolute;border-left: 1px solid gray;box-sizing: border-box;top: 0;bottom: 0;left: 50%;z-index: 0;}#sk-container-id-5 div.sk-serial {display: flex;flex-direction: column;align-items: center;background-color: white;padding-right: 0.2em;padding-left: 0.2em;position: relative;}#sk-container-id-5 div.sk-item {position: relative;z-index: 1;}#sk-container-id-5 div.sk-parallel {display: flex;align-items: stretch;justify-content: center;background-color: white;position: relative;}#sk-container-id-5 div.sk-item::before, #sk-container-id-5 div.sk-parallel-item::before {content: \"\";position: absolute;border-left: 1px solid gray;box-sizing: border-box;top: 0;bottom: 0;left: 50%;z-index: -1;}#sk-container-id-5 div.sk-parallel-item {display: flex;flex-direction: column;z-index: 1;position: relative;background-color: white;}#sk-container-id-5 div.sk-parallel-item:first-child::after {align-self: flex-end;width: 50%;}#sk-container-id-5 div.sk-parallel-item:last-child::after {align-self: flex-start;width: 50%;}#sk-container-id-5 div.sk-parallel-item:only-child::after {width: 0;}#sk-container-id-5 div.sk-dashed-wrapped {border: 1px dashed gray;margin: 0 0.4em 0.5em 0.4em;box-sizing: border-box;padding-bottom: 0.4em;background-color: white;}#sk-container-id-5 div.sk-label label {font-family: monospace;font-weight: bold;display: inline-block;line-height: 1.2em;}#sk-container-id-5 div.sk-label-container {text-align: center;}#sk-container-id-5 div.sk-container {/* jupyter's `normalize.less` sets `[hidden] { display: none; }` but bootstrap.min.css set `[hidden] { display: none !important; }` so we also need the `!important` here to be able to override the default hidden behavior on the sphinx rendered scikit-learn.org. See: https://github.com/scikit-learn/scikit-learn/issues/21755 */display: inline-block !important;position: relative;}#sk-container-id-5 div.sk-text-repr-fallback {display: none;}</style><div id=\"sk-container-id-5\" class=\"sk-top-container\"><div class=\"sk-text-repr-fallback\"><pre>Pipeline(steps=[(&#x27;scaler&#x27;, StandardScaler()),\n",
       "                (&#x27;xgb&#x27;,\n",
       "                 XGBClassifier(base_score=None, booster=None, callbacks=None,\n",
       "                               colsample_bylevel=None, colsample_bynode=None,\n",
       "                               colsample_bytree=None,\n",
       "                               early_stopping_rounds=None,\n",
       "                               enable_categorical=False, eval_metric=None,\n",
       "                               feature_types=None, gamma=None, gpu_id=None,\n",
       "                               grow_policy=None, importance_type=None,\n",
       "                               interaction_constraints=None, learning_rate=None,\n",
       "                               max_bin=None, max_cat_threshold=None,\n",
       "                               max_cat_to_onehot=None, max_delta_step=None,\n",
       "                               max_depth=None, max_leaves=None,\n",
       "                               min_child_weight=None, missing=nan,\n",
       "                               monotone_constraints=None, n_estimators=100,\n",
       "                               n_jobs=None, num_parallel_tree=None,\n",
       "                               predictor=None, random_state=None, ...))])</pre><b>In a Jupyter environment, please rerun this cell to show the HTML representation or trust the notebook. <br />On GitHub, the HTML representation is unable to render, please try loading this page with nbviewer.org.</b></div><div class=\"sk-container\" hidden><div class=\"sk-item sk-dashed-wrapped\"><div class=\"sk-label-container\"><div class=\"sk-label sk-toggleable\"><input class=\"sk-toggleable__control sk-hidden--visually\" id=\"sk-estimator-id-7\" type=\"checkbox\" ><label for=\"sk-estimator-id-7\" class=\"sk-toggleable__label sk-toggleable__label-arrow\">Pipeline</label><div class=\"sk-toggleable__content\"><pre>Pipeline(steps=[(&#x27;scaler&#x27;, StandardScaler()),\n",
       "                (&#x27;xgb&#x27;,\n",
       "                 XGBClassifier(base_score=None, booster=None, callbacks=None,\n",
       "                               colsample_bylevel=None, colsample_bynode=None,\n",
       "                               colsample_bytree=None,\n",
       "                               early_stopping_rounds=None,\n",
       "                               enable_categorical=False, eval_metric=None,\n",
       "                               feature_types=None, gamma=None, gpu_id=None,\n",
       "                               grow_policy=None, importance_type=None,\n",
       "                               interaction_constraints=None, learning_rate=None,\n",
       "                               max_bin=None, max_cat_threshold=None,\n",
       "                               max_cat_to_onehot=None, max_delta_step=None,\n",
       "                               max_depth=None, max_leaves=None,\n",
       "                               min_child_weight=None, missing=nan,\n",
       "                               monotone_constraints=None, n_estimators=100,\n",
       "                               n_jobs=None, num_parallel_tree=None,\n",
       "                               predictor=None, random_state=None, ...))])</pre></div></div></div><div class=\"sk-serial\"><div class=\"sk-item\"><div class=\"sk-estimator sk-toggleable\"><input class=\"sk-toggleable__control sk-hidden--visually\" id=\"sk-estimator-id-8\" type=\"checkbox\" ><label for=\"sk-estimator-id-8\" class=\"sk-toggleable__label sk-toggleable__label-arrow\">StandardScaler</label><div class=\"sk-toggleable__content\"><pre>StandardScaler()</pre></div></div></div><div class=\"sk-item\"><div class=\"sk-estimator sk-toggleable\"><input class=\"sk-toggleable__control sk-hidden--visually\" id=\"sk-estimator-id-9\" type=\"checkbox\" ><label for=\"sk-estimator-id-9\" class=\"sk-toggleable__label sk-toggleable__label-arrow\">XGBClassifier</label><div class=\"sk-toggleable__content\"><pre>XGBClassifier(base_score=None, booster=None, callbacks=None,\n",
       "              colsample_bylevel=None, colsample_bynode=None,\n",
       "              colsample_bytree=None, early_stopping_rounds=None,\n",
       "              enable_categorical=False, eval_metric=None, feature_types=None,\n",
       "              gamma=None, gpu_id=None, grow_policy=None, importance_type=None,\n",
       "              interaction_constraints=None, learning_rate=None, max_bin=None,\n",
       "              max_cat_threshold=None, max_cat_to_onehot=None,\n",
       "              max_delta_step=None, max_depth=None, max_leaves=None,\n",
       "              min_child_weight=None, missing=nan, monotone_constraints=None,\n",
       "              n_estimators=100, n_jobs=None, num_parallel_tree=None,\n",
       "              predictor=None, random_state=None, ...)</pre></div></div></div></div></div></div></div>"
      ],
      "text/plain": [
       "Pipeline(steps=[('scaler', StandardScaler()),\n",
       "                ('xgb',\n",
       "                 XGBClassifier(base_score=None, booster=None, callbacks=None,\n",
       "                               colsample_bylevel=None, colsample_bynode=None,\n",
       "                               colsample_bytree=None,\n",
       "                               early_stopping_rounds=None,\n",
       "                               enable_categorical=False, eval_metric=None,\n",
       "                               feature_types=None, gamma=None, gpu_id=None,\n",
       "                               grow_policy=None, importance_type=None,\n",
       "                               interaction_constraints=None, learning_rate=None,\n",
       "                               max_bin=None, max_cat_threshold=None,\n",
       "                               max_cat_to_onehot=None, max_delta_step=None,\n",
       "                               max_depth=None, max_leaves=None,\n",
       "                               min_child_weight=None, missing=nan,\n",
       "                               monotone_constraints=None, n_estimators=100,\n",
       "                               n_jobs=None, num_parallel_tree=None,\n",
       "                               predictor=None, random_state=None, ...))])"
      ]
     },
     "execution_count": 90,
     "metadata": {},
     "output_type": "execute_result"
    }
   ],
   "source": [
    "from xgboost import XGBClassifier\n",
    "from sklearn.pipeline import Pipeline\n",
    "from sklearn.preprocessing import StandardScaler\n",
    "\n",
    "# Criar o pipeline com o XGBoost\n",
    "pipeline = Pipeline([\n",
    "    ('scaler', StandardScaler()),       # Etapa de pré-processamento: padronização dos dados\n",
    "    ('xgb', XGBClassifier())           # Etapa de modelagem: XGBoost Classifier\n",
    "])\n",
    "\n",
    "# Treinar o modelo usando o pipeline no conjunto de treinamento\n",
    "pipeline.fit(x_train, y_train)"
   ]
  },
  {
   "cell_type": "code",
   "execution_count": 92,
   "id": "0a8f06b0-1daf-410a-a7ee-eaba554f47b4",
   "metadata": {},
   "outputs": [],
   "source": [
    "# Fazer previsões no conjunto de teste\n",
    "pred_pipeline2 = pipeline.predict(x_test)"
   ]
  },
  {
   "cell_type": "code",
   "execution_count": 97,
   "id": "6c2ff847-94da-499b-9345-286c1a02e6c4",
   "metadata": {},
   "outputs": [
    {
     "name": "stdout",
     "output_type": "stream",
     "text": [
      "Acurácia - XGBoost: 98.34\n"
     ]
    }
   ],
   "source": [
    "# Accuracy score model\n",
    "accuracy_XGBoost = accuracy_score(y_test, pred_pipeline2)\n",
    "print(\"Acurácia - XGBoost: %.2f\" % (accuracy_XGBoost * 100))"
   ]
  },
  {
   "cell_type": "code",
   "execution_count": 98,
   "id": "bd53eff4-ae86-45e9-a9ed-5470814edbe5",
   "metadata": {},
   "outputs": [
    {
     "name": "stdout",
     "output_type": "stream",
     "text": [
      "Modelo - XGBoost Pipeline\n",
      "\n",
      "\n",
      "              precision    recall  f1-score   support\n",
      "\n",
      "           0       0.98      0.98      0.98      1714\n",
      "           1       0.98      0.98      0.98      1775\n",
      "\n",
      "    accuracy                           0.98      3489\n",
      "   macro avg       0.98      0.98      0.98      3489\n",
      "weighted avg       0.98      0.98      0.98      3489\n",
      "\n"
     ]
    }
   ],
   "source": [
    "# Classification report model knn\n",
    "class_report = classification_report(y_test, pred_pipeline2)\n",
    "print(\"Modelo - XGBoost Pipeline\")\n",
    "print(\"\\n\")\n",
    "print(class_report)"
   ]
  },
  {
   "cell_type": "code",
   "execution_count": 112,
   "id": "1f97552a-f5bd-489a-b7d4-70abb7fcd178",
   "metadata": {},
   "outputs": [
    {
     "name": "stdout",
     "output_type": "stream",
     "text": [
      "Confusion matrix - XGBoost Pipeline \n",
      "\n",
      " [[1683   31]\n",
      " [  27 1748]]\n",
      "\n",
      "True Positives(TP) =  1683\n",
      "\n",
      "True Negatives(TN) =  1748\n",
      "\n",
      "False Positives(FP) =  31\n",
      "\n",
      "False Negatives(FN) =  27\n"
     ]
    }
   ],
   "source": [
    "matrix_confusion = confusion_matrix(y_test, pred_pipeline2)\n",
    "\n",
    "print('Confusion matrix - XGBoost Pipeline \\n\\n', matrix_confusion)\n",
    "print('\\nTrue Positives(TP) = ', matrix_confusion[0,0])\n",
    "print('\\nTrue Negatives(TN) = ', matrix_confusion[1,1])\n",
    "print('\\nFalse Positives(FP) = ', matrix_confusion[0,1])\n",
    "print('\\nFalse Negatives(FN) = ', matrix_confusion[1,0])"
   ]
  },
  {
   "cell_type": "code",
   "execution_count": 99,
   "id": "e2019ce5-cfce-4ca8-bbd9-b64750f77a7b",
   "metadata": {},
   "outputs": [
    {
     "data": {
      "image/png": "[encoded data removed]",
      "text/plain": [
       "<Figure size 800x500 with 2 Axes>"
      ]
     },
     "metadata": {},
     "output_type": "display_data"
    }
   ],
   "source": [
    "# Confusion matrix\n",
    "matrix_confusion_5 = confusion_matrix(y_test, pred_pipeline2)\n",
    "\n",
    "plt.figure(figsize=(8, 5))\n",
    "ax = plt.subplot()\n",
    "sns.heatmap(matrix_confusion_5, annot=True, ax = ax, fmt = \".2f\", cmap=\"Paired\"); \n",
    "ax.set_title('Confusion Matrix - XGBoost Pipeline'); \n",
    "ax.xaxis.set_ticklabels([\"0\", \"1\"]); ax.yaxis.set_ticklabels([\"0\", \"1\"]);"
   ]
  },
  {
   "cell_type": "markdown",
   "id": "0279ab91-fc1e-4185-88fe-50c2744788a8",
   "metadata": {},
   "source": [
    "# Resultado final"
   ]
  },
  {
   "cell_type": "code",
   "execution_count": 108,
   "id": "7ed6e95b-dd14-4928-848c-75997081eaca",
   "metadata": {},
   "outputs": [
    {
     "data": {
      "text/html": [
       "<div>\n",
       "<style scoped>\n",
       "    .dataframe tbody tr th:only-of-type {\n",
       "        vertical-align: middle;\n",
       "    }\n",
       "\n",
       "    .dataframe tbody tr th {\n",
       "        vertical-align: top;\n",
       "    }\n",
       "\n",
       "    .dataframe thead th {\n",
       "        text-align: right;\n",
       "    }\n",
       "</style>\n",
       "<table border=\"1\" class=\"dataframe\">\n",
       "  <thead>\n",
       "    <tr style=\"text-align: right;\">\n",
       "      <th></th>\n",
       "      <th>Models</th>\n",
       "      <th>Acurácia</th>\n",
       "    </tr>\n",
       "  </thead>\n",
       "  <tbody>\n",
       "    <tr>\n",
       "      <th>0</th>\n",
       "      <td>K-NN GridSearchCV</td>\n",
       "      <td>0.964746</td>\n",
       "    </tr>\n",
       "    <tr>\n",
       "      <th>2</th>\n",
       "      <td>XGBoost</td>\n",
       "      <td>0.964746</td>\n",
       "    </tr>\n",
       "    <tr>\n",
       "      <th>1</th>\n",
       "      <td>K-NN - Random search</td>\n",
       "      <td>0.938091</td>\n",
       "    </tr>\n",
       "  </tbody>\n",
       "</table>\n",
       "</div>"
      ],
      "text/plain": [
       "                 Models  Acurácia\n",
       "0     K-NN GridSearchCV  0.964746\n",
       "2               XGBoost  0.964746\n",
       "1  K-NN - Random search  0.938091"
      ]
     },
     "execution_count": 108,
     "metadata": {},
     "output_type": "execute_result"
    }
   ],
   "source": [
    "# Resultados - Modelos machine learning\n",
    "\n",
    "modelos = pd.DataFrame({\n",
    "    \n",
    "    \"Models\" :[\"K-NN GridSearchCV\",\n",
    "               \"K-NN - Random search\",  \n",
    "               \"XGBoost\"],\n",
    "\n",
    "    \"Acurácia\" :[accuracy_knn_GridSearchCV,\n",
    "                 accuracy_knn_Randomized_Search_CV, \n",
    "                 accuracy_xgbt]})\n",
    "\n",
    "modelos.sort_values(by = \"Acurácia\", ascending = False)"
   ]
  },
  {
   "cell_type": "markdown",
   "id": "631c74fc-3ba4-4d14-bf4b-cc7b063d3c0f",
   "metadata": {},
   "source": [
    "# Salvando modelo "
   ]
  },
  {
   "cell_type": "code",
   "execution_count": 102,
   "id": "af096ec7-7e2e-4a45-ab8b-f927d12be8c4",
   "metadata": {},
   "outputs": [],
   "source": [
    "# Importando biblioteca pickle\n",
    "import pickle\n",
    "\n",
    "# Salvando o modelo em formato .pkl - Modelo - Naive bayes\n",
    "with open(\"knn_Grid_Search_CV.pkl\", \"wb\") as f:\n",
    "    pickle.dump(best_knn, f)\n",
    "      \n",
    "# Salvando o modelo em formato .pkl - XGBoost\n",
    "with open(\"knn_Randomized_Search_CV.pkl\", \"wb\") as f:\n",
    "    pickle.dump(best_knn_2, f)\n",
    "    \n",
    "# Salvando o modelo em formato .pkl - XGBoost\n",
    "with open(\"modelo_xgb.pkl\", \"wb\") as f:\n",
    "    pickle.dump(modelo_xgb, f)"
   ]
  },
  {
   "cell_type": "markdown",
   "id": "58f962bd-591c-470c-9355-fc9fd00fc751",
   "metadata": {},
   "source": [
    "# Conclusão\n",
    "\n"
   ]
  },
  {
   "cell_type": "markdown",
   "id": "774a59d4-e712-49e8-bf2e-15caa7016e1f",
   "metadata": {},
   "source": [
    "O modelo Turning teve uma acurácia boa, assim como o K-NN GridSearchCV, que se destacou como o melhor desempenho dentre os modelos testados. Em seguida, o modelo XGBoost obteve o segundo lugar em termos de acurácia, demonstrando uma performance bastante promissora. Já o terceiro modelo avaliado foi o K-NN - Random Search, que também apresentou acurácias satisfatórias.\n",
    "\n",
    "Com base nos resultados obtidos, podemos afirmar que o modelo K-NN GridSearchCV se mostrou particularmente eficaz na detecção e prevenção de incêndios. Essa eficácia é extremamente relevante e promissora no contexto de segurança e proteção contra incêndios, pois poderá ser aplicada para aumentar a prontidão e a capacidade de resposta em situações de emergência.\n",
    "\n",
    "Além disso, é importante mencionar que a busca sistemática de parâmetros realizada pelo GridSearchCV no algoritmo K-NN pode ter sido um fator decisivo para o seu excelente desempenho. A otimização de hiperparâmetros é uma etapa crucial no processo de criação de modelos de machine learning, e o GridSearchCV é uma técnica que contribui significativamente para encontrar as configurações ideais.\n",
    "\n",
    "Em resumo, os resultados obtidos nesta avaliação indicam que o modelo K-NN GridSearchCV apresentou uma eficácia notável no contexto de prevenção de incêndios, destacando-se como uma ferramenta valiosa para a segurança e proteção das pessoas e do patrimônio. Com a utilização adequada deste modelo, podemos esperar uma resposta mais rápida e efetiva na detecção e combate a incêndios, contribuindo assim para a preservação de vidas e propriedades."
   ]
  },
  {
   "cell_type": "code",
   "execution_count": null,
   "id": "d60d1a35-5bbf-4a6d-800b-c8c5933ed75a",
   "metadata": {},
   "outputs": [],
   "source": []
  }
 ],
 "metadata": {
  "kernelspec": {
   "display_name": "Python 3 (ipykernel)",
   "language": "python",
   "name": "python3"
  },
  "language_info": {
   "codemirror_mode": {
    "name": "ipython",
    "version": 3
   },
   "file_extension": ".py",
   "mimetype": "text/x-python",
   "name": "python",
   "nbconvert_exporter": "python",
   "pygments_lexer": "ipython3",
   "version": "3.9.13"
  }
 },
 "nbformat": 4,
 "nbformat_minor": 5
}
