{
 "cells": [
  {
   "cell_type": "markdown",
   "id": "1806d2c1",
   "metadata": {},
   "source": [
    "# Deploy modelo machine learning"
   ]
  },
  {
   "cell_type": "code",
   "execution_count": 1,
   "id": "23756a15",
   "metadata": {},
   "outputs": [],
   "source": [
    "import pandas as pd\n",
    "import numpy as np\n",
    "import joblib"
   ]
  },
  {
   "cell_type": "code",
   "execution_count": 2,
   "id": "300d5d98",
   "metadata": {},
   "outputs": [],
   "source": [
    "# Carregando o modelo do disco\n",
    "modelo_carregado = joblib.load(\"LogisticRegression.pkl\")"
   ]
  },
  {
   "cell_type": "code",
   "execution_count": 3,
   "id": "75cab4c1",
   "metadata": {},
   "outputs": [
    {
     "data": {
      "text/html": [
       "<div>\n",
       "<style scoped>\n",
       "    .dataframe tbody tr th:only-of-type {\n",
       "        vertical-align: middle;\n",
       "    }\n",
       "\n",
       "    .dataframe tbody tr th {\n",
       "        vertical-align: top;\n",
       "    }\n",
       "\n",
       "    .dataframe thead th {\n",
       "        text-align: right;\n",
       "    }\n",
       "</style>\n",
       "<table border=\"1\" class=\"dataframe\">\n",
       "  <thead>\n",
       "    <tr style=\"text-align: right;\">\n",
       "      <th></th>\n",
       "      <th>numero_acessos</th>\n",
       "      <th>numero_cliques</th>\n",
       "    </tr>\n",
       "  </thead>\n",
       "  <tbody>\n",
       "    <tr>\n",
       "      <th>0</th>\n",
       "      <td>60</td>\n",
       "      <td>20</td>\n",
       "    </tr>\n",
       "  </tbody>\n",
       "</table>\n",
       "</div>"
      ],
      "text/plain": [
       "   numero_acessos  numero_cliques\n",
       "0              60              20"
      ]
     },
     "execution_count": 3,
     "metadata": {},
     "output_type": "execute_result"
    }
   ],
   "source": [
    "# Novos dados\n",
    "novos_dados = pd.DataFrame({'numero_acessos': [60], \n",
    "                            'numero_cliques': [20]})\n",
    "novos_dados"
   ]
  },
  {
   "cell_type": "code",
   "execution_count": 4,
   "id": "ffc65cd2",
   "metadata": {},
   "outputs": [],
   "source": [
    "# Previsões com novos dados\n",
    "previsoes_novos_dados_prob = modelo_carregado.predict_proba(novos_dados)[:, 1]\n",
    "previsoes_novos_dados_classe = np.where(previsoes_novos_dados_prob > 0.5, 'sim', 'não')"
   ]
  },
  {
   "cell_type": "code",
   "execution_count": 6,
   "id": "736af87b",
   "metadata": {},
   "outputs": [],
   "source": [
    "# Mostrando as previsões de classe e probabilidade\n",
    "novos_dados['Lead_Convertido'] = previsoes_novos_dados_classe\n",
    "novos_dados['Probabilidade'] = previsoes_novos_dados_prob * 100"
   ]
  },
  {
   "cell_type": "code",
   "execution_count": 7,
   "id": "8a9579bf",
   "metadata": {},
   "outputs": [
    {
     "data": {
      "text/html": [
       "<div>\n",
       "<style scoped>\n",
       "    .dataframe tbody tr th:only-of-type {\n",
       "        vertical-align: middle;\n",
       "    }\n",
       "\n",
       "    .dataframe tbody tr th {\n",
       "        vertical-align: top;\n",
       "    }\n",
       "\n",
       "    .dataframe thead th {\n",
       "        text-align: right;\n",
       "    }\n",
       "</style>\n",
       "<table border=\"1\" class=\"dataframe\">\n",
       "  <thead>\n",
       "    <tr style=\"text-align: right;\">\n",
       "      <th></th>\n",
       "      <th>Lead_Convertido</th>\n",
       "      <th>Probabilidade</th>\n",
       "    </tr>\n",
       "  </thead>\n",
       "  <tbody>\n",
       "    <tr>\n",
       "      <th>0</th>\n",
       "      <td>sim</td>\n",
       "      <td>65.629602</td>\n",
       "    </tr>\n",
       "  </tbody>\n",
       "</table>\n",
       "</div>"
      ],
      "text/plain": [
       "  Lead_Convertido  Probabilidade\n",
       "0             sim      65.629602"
      ]
     },
     "execution_count": 7,
     "metadata": {},
     "output_type": "execute_result"
    }
   ],
   "source": [
    "# Criando um DataFrame para as previsões\n",
    "previsoes_df = pd.DataFrame({'Lead_Convertido': previsoes_novos_dados_classe, \n",
    "                             'Probabilidade': previsoes_novos_dados_prob * 100})\n",
    "\n",
    "# Visualizando resultado\n",
    "previsoes_df"
   ]
  },
  {
   "cell_type": "code",
   "execution_count": null,
   "id": "1645a288",
   "metadata": {},
   "outputs": [],
   "source": []
  }
 ],
 "metadata": {
  "kernelspec": {
   "display_name": "Python 3 (ipykernel)",
   "language": "python",
   "name": "python3"
  },
  "language_info": {
   "codemirror_mode": {
    "name": "ipython",
    "version": 3
   },
   "file_extension": ".py",
   "mimetype": "text/x-python",
   "name": "python",
   "nbconvert_exporter": "python",
   "pygments_lexer": "ipython3",
   "version": "3.9.13"
  }
 },
 "nbformat": 4,
 "nbformat_minor": 5
}
